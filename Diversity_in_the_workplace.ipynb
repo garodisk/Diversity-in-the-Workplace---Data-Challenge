{
  "nbformat": 4,
  "nbformat_minor": 0,
  "metadata": {
    "colab": {
      "name": "Diversity_in_the_workplace.ipynb",
      "provenance": [],
      "collapsed_sections": []
    },
    "kernelspec": {
      "name": "python3",
      "display_name": "Python 3"
    }
  },
  "cells": [
    {
      "cell_type": "markdown",
      "metadata": {
        "id": "4-ZP7IG9bs1P",
        "colab_type": "text"
      },
      "source": [
        "## **Data Challenge - Diversity in the Workplace**"
      ]
    },
    {
      "cell_type": "markdown",
      "metadata": {
        "id": "Kk2KW6Bx8fqb",
        "colab_type": "text"
      },
      "source": [
        "**Challenge Description**\n",
        "\n",
        "There has been lots of talking about diversity in the workplace, especially in technology. The Head of HR at your company is very concerned about that and has asked you to analyze internal data about employees and see whether results suggest that the company is treating its employees fairly.\n",
        "\n",
        "**Question 1**\n",
        "\n",
        "In the company there are 6 levels (described below). Identify, for each employee, her corresponding level.\n",
        "\n",
        "Individual Contributors (IC) - they don't manage anyone\n",
        "\n",
        "Middle Managers (MM) - they are the direct bosses of IC\n",
        "\n",
        "Directors (D) - they are the direct bosses of MM\n",
        "\n",
        "VP - D direct bosses\n",
        "\n",
        "Executives (E) - VP direct bosses\n",
        "\n",
        "CEO - The direct boss of E.\n",
        "\n",
        "\n",
        "**Question 2**\n",
        "\n",
        "How many people each employee manages? You should have a table with employee ids and the number of people managed. \n",
        "\n",
        "Consider that if John directly manages 2 people and these two people manage 5 people each, then we conclude that John manages 12 people.\n",
        "\n",
        "\n",
        "**Question 3**\n",
        "\n",
        "Build a model to predict the salary of each employee.\n",
        "\n",
        "**Question 4**\n",
        "\n",
        "Describe the main factors impacting employee salaries.\n",
        "\n",
        "Do you think the company has been treating its employees fairly? Do you see any bias?\n",
        "\n",
        "What are the next steps you would suggest to the Head of HR?\n",
        "\n",
        "Now, let us start with the analysis.\n"
      ]
    },
    {
      "cell_type": "code",
      "metadata": {
        "id": "gSyarvwJ8f0z",
        "colab_type": "code",
        "colab": {}
      },
      "source": [
        "#importing necessary libraries\n",
        "\n",
        "import pandas as pd\n",
        "import numpy as np\n",
        "import matplotlib.pyplot as plt\n",
        "import seaborn as sns\n",
        "from sklearn.preprocessing import LabelEncoder, OneHotEncoder\n",
        "from sklearn.model_selection import GridSearchCV\n",
        "from sklearn.ensemble import RandomForestRegressor\n",
        "from sklearn.ensemble import RandomForestClassifier\n",
        "from sklearn.linear_model import LogisticRegression\n",
        "from sklearn.linear_model import LinearRegression\n",
        "from sklearn.linear_model import LogisticRegression\n",
        "from sklearn.model_selection import train_test_split\n",
        "from sklearn.ensemble import GradientBoostingClassifier\n",
        "from sklearn.decomposition import PCA\n",
        "from sklearn.preprocessing import StandardScaler\n",
        "from sklearn.manifold import TSNE\n",
        "from sklearn.metrics import mean_squared_error"
      ],
      "execution_count": 0,
      "outputs": []
    },
    {
      "cell_type": "markdown",
      "metadata": {
        "id": "dPsZiANHowsM",
        "colab_type": "text"
      },
      "source": [
        "Let's now import the datasets company_hierarchy.csv and employee.csv that are available for the data challenge."
      ]
    },
    {
      "cell_type": "code",
      "metadata": {
        "id": "xaLpS-DP7ECi",
        "colab_type": "code",
        "outputId": "7ffcd200-17d5-4e19-f31f-6b554f8b8c03",
        "colab": {
          "resources": {
            "http://localhost:8080/nbextensions/google.colab/files.js": {
              "data": "Ly8gQ29weXJpZ2h0IDIwMTcgR29vZ2xlIExMQwovLwovLyBMaWNlbnNlZCB1bmRlciB0aGUgQXBhY2hlIExpY2Vuc2UsIFZlcnNpb24gMi4wICh0aGUgIkxpY2Vuc2UiKTsKLy8geW91IG1heSBub3QgdXNlIHRoaXMgZmlsZSBleGNlcHQgaW4gY29tcGxpYW5jZSB3aXRoIHRoZSBMaWNlbnNlLgovLyBZb3UgbWF5IG9idGFpbiBhIGNvcHkgb2YgdGhlIExpY2Vuc2UgYXQKLy8KLy8gICAgICBodHRwOi8vd3d3LmFwYWNoZS5vcmcvbGljZW5zZXMvTElDRU5TRS0yLjAKLy8KLy8gVW5sZXNzIHJlcXVpcmVkIGJ5IGFwcGxpY2FibGUgbGF3IG9yIGFncmVlZCB0byBpbiB3cml0aW5nLCBzb2Z0d2FyZQovLyBkaXN0cmlidXRlZCB1bmRlciB0aGUgTGljZW5zZSBpcyBkaXN0cmlidXRlZCBvbiBhbiAiQVMgSVMiIEJBU0lTLAovLyBXSVRIT1VUIFdBUlJBTlRJRVMgT1IgQ09ORElUSU9OUyBPRiBBTlkgS0lORCwgZWl0aGVyIGV4cHJlc3Mgb3IgaW1wbGllZC4KLy8gU2VlIHRoZSBMaWNlbnNlIGZvciB0aGUgc3BlY2lmaWMgbGFuZ3VhZ2UgZ292ZXJuaW5nIHBlcm1pc3Npb25zIGFuZAovLyBsaW1pdGF0aW9ucyB1bmRlciB0aGUgTGljZW5zZS4KCi8qKgogKiBAZmlsZW92ZXJ2aWV3IEhlbHBlcnMgZm9yIGdvb2dsZS5jb2xhYiBQeXRob24gbW9kdWxlLgogKi8KKGZ1bmN0aW9uKHNjb3BlKSB7CmZ1bmN0aW9uIHNwYW4odGV4dCwgc3R5bGVBdHRyaWJ1dGVzID0ge30pIHsKICBjb25zdCBlbGVtZW50ID0gZG9jdW1lbnQuY3JlYXRlRWxlbWVudCgnc3BhbicpOwogIGVsZW1lbnQudGV4dENvbnRlbnQgPSB0ZXh0OwogIGZvciAoY29uc3Qga2V5IG9mIE9iamVjdC5rZXlzKHN0eWxlQXR0cmlidXRlcykpIHsKICAgIGVsZW1lbnQuc3R5bGVba2V5XSA9IHN0eWxlQXR0cmlidXRlc1trZXldOwogIH0KICByZXR1cm4gZWxlbWVudDsKfQoKLy8gTWF4IG51bWJlciBvZiBieXRlcyB3aGljaCB3aWxsIGJlIHVwbG9hZGVkIGF0IGEgdGltZS4KY29uc3QgTUFYX1BBWUxPQURfU0laRSA9IDEwMCAqIDEwMjQ7Ci8vIE1heCBhbW91bnQgb2YgdGltZSB0byBibG9jayB3YWl0aW5nIGZvciB0aGUgdXNlci4KY29uc3QgRklMRV9DSEFOR0VfVElNRU9VVF9NUyA9IDMwICogMTAwMDsKCmZ1bmN0aW9uIF91cGxvYWRGaWxlcyhpbnB1dElkLCBvdXRwdXRJZCkgewogIGNvbnN0IHN0ZXBzID0gdXBsb2FkRmlsZXNTdGVwKGlucHV0SWQsIG91dHB1dElkKTsKICBjb25zdCBvdXRwdXRFbGVtZW50ID0gZG9jdW1lbnQuZ2V0RWxlbWVudEJ5SWQob3V0cHV0SWQpOwogIC8vIENhY2hlIHN0ZXBzIG9uIHRoZSBvdXRwdXRFbGVtZW50IHRvIG1ha2UgaXQgYXZhaWxhYmxlIGZvciB0aGUgbmV4dCBjYWxsCiAgLy8gdG8gdXBsb2FkRmlsZXNDb250aW51ZSBmcm9tIFB5dGhvbi4KICBvdXRwdXRFbGVtZW50LnN0ZXBzID0gc3RlcHM7CgogIHJldHVybiBfdXBsb2FkRmlsZXNDb250aW51ZShvdXRwdXRJZCk7Cn0KCi8vIFRoaXMgaXMgcm91Z2hseSBhbiBhc3luYyBnZW5lcmF0b3IgKG5vdCBzdXBwb3J0ZWQgaW4gdGhlIGJyb3dzZXIgeWV0KSwKLy8gd2hlcmUgdGhlcmUgYXJlIG11bHRpcGxlIGFzeW5jaHJvbm91cyBzdGVwcyBhbmQgdGhlIFB5dGhvbiBzaWRlIGlzIGdvaW5nCi8vIHRvIHBvbGwgZm9yIGNvbXBsZXRpb24gb2YgZWFjaCBzdGVwLgovLyBUaGlzIHVzZXMgYSBQcm9taXNlIHRvIGJsb2NrIHRoZSBweXRob24gc2lkZSBvbiBjb21wbGV0aW9uIG9mIGVhY2ggc3RlcCwKLy8gdGhlbiBwYXNzZXMgdGhlIHJlc3VsdCBvZiB0aGUgcHJldmlvdXMgc3RlcCBhcyB0aGUgaW5wdXQgdG8gdGhlIG5leHQgc3RlcC4KZnVuY3Rpb24gX3VwbG9hZEZpbGVzQ29udGludWUob3V0cHV0SWQpIHsKICBjb25zdCBvdXRwdXRFbGVtZW50ID0gZG9jdW1lbnQuZ2V0RWxlbWVudEJ5SWQob3V0cHV0SWQpOwogIGNvbnN0IHN0ZXBzID0gb3V0cHV0RWxlbWVudC5zdGVwczsKCiAgY29uc3QgbmV4dCA9IHN0ZXBzLm5leHQob3V0cHV0RWxlbWVudC5sYXN0UHJvbWlzZVZhbHVlKTsKICByZXR1cm4gUHJvbWlzZS5yZXNvbHZlKG5leHQudmFsdWUucHJvbWlzZSkudGhlbigodmFsdWUpID0+IHsKICAgIC8vIENhY2hlIHRoZSBsYXN0IHByb21pc2UgdmFsdWUgdG8gbWFrZSBpdCBhdmFpbGFibGUgdG8gdGhlIG5leHQKICAgIC8vIHN0ZXAgb2YgdGhlIGdlbmVyYXRvci4KICAgIG91dHB1dEVsZW1lbnQubGFzdFByb21pc2VWYWx1ZSA9IHZhbHVlOwogICAgcmV0dXJuIG5leHQudmFsdWUucmVzcG9uc2U7CiAgfSk7Cn0KCi8qKgogKiBHZW5lcmF0b3IgZnVuY3Rpb24gd2hpY2ggaXMgY2FsbGVkIGJldHdlZW4gZWFjaCBhc3luYyBzdGVwIG9mIHRoZSB1cGxvYWQKICogcHJvY2Vzcy4KICogQHBhcmFtIHtzdHJpbmd9IGlucHV0SWQgRWxlbWVudCBJRCBvZiB0aGUgaW5wdXQgZmlsZSBwaWNrZXIgZWxlbWVudC4KICogQHBhcmFtIHtzdHJpbmd9IG91dHB1dElkIEVsZW1lbnQgSUQgb2YgdGhlIG91dHB1dCBkaXNwbGF5LgogKiBAcmV0dXJuIHshSXRlcmFibGU8IU9iamVjdD59IEl0ZXJhYmxlIG9mIG5leHQgc3RlcHMuCiAqLwpmdW5jdGlvbiogdXBsb2FkRmlsZXNTdGVwKGlucHV0SWQsIG91dHB1dElkKSB7CiAgY29uc3QgaW5wdXRFbGVtZW50ID0gZG9jdW1lbnQuZ2V0RWxlbWVudEJ5SWQoaW5wdXRJZCk7CiAgaW5wdXRFbGVtZW50LmRpc2FibGVkID0gZmFsc2U7CgogIGNvbnN0IG91dHB1dEVsZW1lbnQgPSBkb2N1bWVudC5nZXRFbGVtZW50QnlJZChvdXRwdXRJZCk7CiAgb3V0cHV0RWxlbWVudC5pbm5lckhUTUwgPSAnJzsKCiAgY29uc3QgcGlja2VkUHJvbWlzZSA9IG5ldyBQcm9taXNlKChyZXNvbHZlKSA9PiB7CiAgICBpbnB1dEVsZW1lbnQuYWRkRXZlbnRMaXN0ZW5lcignY2hhbmdlJywgKGUpID0+IHsKICAgICAgcmVzb2x2ZShlLnRhcmdldC5maWxlcyk7CiAgICB9KTsKICB9KTsKCiAgY29uc3QgY2FuY2VsID0gZG9jdW1lbnQuY3JlYXRlRWxlbWVudCgnYnV0dG9uJyk7CiAgaW5wdXRFbGVtZW50LnBhcmVudEVsZW1lbnQuYXBwZW5kQ2hpbGQoY2FuY2VsKTsKICBjYW5jZWwudGV4dENvbnRlbnQgPSAnQ2FuY2VsIHVwbG9hZCc7CiAgY29uc3QgY2FuY2VsUHJvbWlzZSA9IG5ldyBQcm9taXNlKChyZXNvbHZlKSA9PiB7CiAgICBjYW5jZWwub25jbGljayA9ICgpID0+IHsKICAgICAgcmVzb2x2ZShudWxsKTsKICAgIH07CiAgfSk7CgogIC8vIENhbmNlbCB1cGxvYWQgaWYgdXNlciBoYXNuJ3QgcGlja2VkIGFueXRoaW5nIGluIHRpbWVvdXQuCiAgY29uc3QgdGltZW91dFByb21pc2UgPSBuZXcgUHJvbWlzZSgocmVzb2x2ZSkgPT4gewogICAgc2V0VGltZW91dCgoKSA9PiB7CiAgICAgIHJlc29sdmUobnVsbCk7CiAgICB9LCBGSUxFX0NIQU5HRV9USU1FT1VUX01TKTsKICB9KTsKCiAgLy8gV2FpdCBmb3IgdGhlIHVzZXIgdG8gcGljayB0aGUgZmlsZXMuCiAgY29uc3QgZmlsZXMgPSB5aWVsZCB7CiAgICBwcm9taXNlOiBQcm9taXNlLnJhY2UoW3BpY2tlZFByb21pc2UsIHRpbWVvdXRQcm9taXNlLCBjYW5jZWxQcm9taXNlXSksCiAgICByZXNwb25zZTogewogICAgICBhY3Rpb246ICdzdGFydGluZycsCiAgICB9CiAgfTsKCiAgaWYgKCFmaWxlcykgewogICAgcmV0dXJuIHsKICAgICAgcmVzcG9uc2U6IHsKICAgICAgICBhY3Rpb246ICdjb21wbGV0ZScsCiAgICAgIH0KICAgIH07CiAgfQoKICBjYW5jZWwucmVtb3ZlKCk7CgogIC8vIERpc2FibGUgdGhlIGlucHV0IGVsZW1lbnQgc2luY2UgZnVydGhlciBwaWNrcyBhcmUgbm90IGFsbG93ZWQuCiAgaW5wdXRFbGVtZW50LmRpc2FibGVkID0gdHJ1ZTsKCiAgZm9yIChjb25zdCBmaWxlIG9mIGZpbGVzKSB7CiAgICBjb25zdCBsaSA9IGRvY3VtZW50LmNyZWF0ZUVsZW1lbnQoJ2xpJyk7CiAgICBsaS5hcHBlbmQoc3BhbihmaWxlLm5hbWUsIHtmb250V2VpZ2h0OiAnYm9sZCd9KSk7CiAgICBsaS5hcHBlbmQoc3BhbigKICAgICAgICBgKCR7ZmlsZS50eXBlIHx8ICduL2EnfSkgLSAke2ZpbGUuc2l6ZX0gYnl0ZXMsIGAgKwogICAgICAgIGBsYXN0IG1vZGlmaWVkOiAkewogICAgICAgICAgICBmaWxlLmxhc3RNb2RpZmllZERhdGUgPyBmaWxlLmxhc3RNb2RpZmllZERhdGUudG9Mb2NhbGVEYXRlU3RyaW5nKCkgOgogICAgICAgICAgICAgICAgICAgICAgICAgICAgICAgICAgICAnbi9hJ30gLSBgKSk7CiAgICBjb25zdCBwZXJjZW50ID0gc3BhbignMCUgZG9uZScpOwogICAgbGkuYXBwZW5kQ2hpbGQocGVyY2VudCk7CgogICAgb3V0cHV0RWxlbWVudC5hcHBlbmRDaGlsZChsaSk7CgogICAgY29uc3QgZmlsZURhdGFQcm9taXNlID0gbmV3IFByb21pc2UoKHJlc29sdmUpID0+IHsKICAgICAgY29uc3QgcmVhZGVyID0gbmV3IEZpbGVSZWFkZXIoKTsKICAgICAgcmVhZGVyLm9ubG9hZCA9IChlKSA9PiB7CiAgICAgICAgcmVzb2x2ZShlLnRhcmdldC5yZXN1bHQpOwogICAgICB9OwogICAgICByZWFkZXIucmVhZEFzQXJyYXlCdWZmZXIoZmlsZSk7CiAgICB9KTsKICAgIC8vIFdhaXQgZm9yIHRoZSBkYXRhIHRvIGJlIHJlYWR5LgogICAgbGV0IGZpbGVEYXRhID0geWllbGQgewogICAgICBwcm9taXNlOiBmaWxlRGF0YVByb21pc2UsCiAgICAgIHJlc3BvbnNlOiB7CiAgICAgICAgYWN0aW9uOiAnY29udGludWUnLAogICAgICB9CiAgICB9OwoKICAgIC8vIFVzZSBhIGNodW5rZWQgc2VuZGluZyB0byBhdm9pZCBtZXNzYWdlIHNpemUgbGltaXRzLiBTZWUgYi82MjExNTY2MC4KICAgIGxldCBwb3NpdGlvbiA9IDA7CiAgICB3aGlsZSAocG9zaXRpb24gPCBmaWxlRGF0YS5ieXRlTGVuZ3RoKSB7CiAgICAgIGNvbnN0IGxlbmd0aCA9IE1hdGgubWluKGZpbGVEYXRhLmJ5dGVMZW5ndGggLSBwb3NpdGlvbiwgTUFYX1BBWUxPQURfU0laRSk7CiAgICAgIGNvbnN0IGNodW5rID0gbmV3IFVpbnQ4QXJyYXkoZmlsZURhdGEsIHBvc2l0aW9uLCBsZW5ndGgpOwogICAgICBwb3NpdGlvbiArPSBsZW5ndGg7CgogICAgICBjb25zdCBiYXNlNjQgPSBidG9hKFN0cmluZy5mcm9tQ2hhckNvZGUuYXBwbHkobnVsbCwgY2h1bmspKTsKICAgICAgeWllbGQgewogICAgICAgIHJlc3BvbnNlOiB7CiAgICAgICAgICBhY3Rpb246ICdhcHBlbmQnLAogICAgICAgICAgZmlsZTogZmlsZS5uYW1lLAogICAgICAgICAgZGF0YTogYmFzZTY0LAogICAgICAgIH0sCiAgICAgIH07CiAgICAgIHBlcmNlbnQudGV4dENvbnRlbnQgPQogICAgICAgICAgYCR7TWF0aC5yb3VuZCgocG9zaXRpb24gLyBmaWxlRGF0YS5ieXRlTGVuZ3RoKSAqIDEwMCl9JSBkb25lYDsKICAgIH0KICB9CgogIC8vIEFsbCBkb25lLgogIHlpZWxkIHsKICAgIHJlc3BvbnNlOiB7CiAgICAgIGFjdGlvbjogJ2NvbXBsZXRlJywKICAgIH0KICB9Owp9CgpzY29wZS5nb29nbGUgPSBzY29wZS5nb29nbGUgfHwge307CnNjb3BlLmdvb2dsZS5jb2xhYiA9IHNjb3BlLmdvb2dsZS5jb2xhYiB8fCB7fTsKc2NvcGUuZ29vZ2xlLmNvbGFiLl9maWxlcyA9IHsKICBfdXBsb2FkRmlsZXMsCiAgX3VwbG9hZEZpbGVzQ29udGludWUsCn07Cn0pKHNlbGYpOwo=",
              "ok": true,
              "headers": [
                [
                  "content-type",
                  "application/javascript"
                ]
              ],
              "status": 200,
              "status_text": ""
            }
          },
          "base_uri": "https://localhost:8080/",
          "height": 74
        }
      },
      "source": [
        "from google.colab import files\n",
        "uploaded = files.upload()"
      ],
      "execution_count": 3,
      "outputs": [
        {
          "output_type": "display_data",
          "data": {
            "text/html": [
              "\n",
              "     <input type=\"file\" id=\"files-afa012d5-8b95-4368-b509-5aec066ce8b7\" name=\"files[]\" multiple disabled />\n",
              "     <output id=\"result-afa012d5-8b95-4368-b509-5aec066ce8b7\">\n",
              "      Upload widget is only available when the cell has been executed in the\n",
              "      current browser session. Please rerun this cell to enable.\n",
              "      </output>\n",
              "      <script src=\"/nbextensions/google.colab/files.js\"></script> "
            ],
            "text/plain": [
              "<IPython.core.display.HTML object>"
            ]
          },
          "metadata": {
            "tags": []
          }
        },
        {
          "output_type": "stream",
          "text": [
            "Saving company_hierarchy.csv to company_hierarchy.csv\n"
          ],
          "name": "stdout"
        }
      ]
    },
    {
      "cell_type": "code",
      "metadata": {
        "id": "AmsO3VwI7FMz",
        "colab_type": "code",
        "colab": {}
      },
      "source": [
        "company_hierarchy = pd.read_csv('company_hierarchy.csv')"
      ],
      "execution_count": 0,
      "outputs": []
    },
    {
      "cell_type": "code",
      "metadata": {
        "id": "SQsNrcto7K4l",
        "colab_type": "code",
        "outputId": "0eeb709b-2fc9-4657-8380-ad0a79de20ce",
        "colab": {
          "resources": {
            "http://localhost:8080/nbextensions/google.colab/files.js": {
              "data": "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",
              "ok": true,
              "headers": [
                [
                  "content-type",
                  "application/javascript"
                ]
              ],
              "status": 200,
              "status_text": ""
            }
          },
          "base_uri": "https://localhost:8080/",
          "height": 74
        }
      },
      "source": [
        "from google.colab import files\n",
        "uploaded = files.upload()"
      ],
      "execution_count": 5,
      "outputs": [
        {
          "output_type": "display_data",
          "data": {
            "text/html": [
              "\n",
              "     <input type=\"file\" id=\"files-3b7a9842-e43c-4117-a0ef-a57cd8d236de\" name=\"files[]\" multiple disabled />\n",
              "     <output id=\"result-3b7a9842-e43c-4117-a0ef-a57cd8d236de\">\n",
              "      Upload widget is only available when the cell has been executed in the\n",
              "      current browser session. Please rerun this cell to enable.\n",
              "      </output>\n",
              "      <script src=\"/nbextensions/google.colab/files.js\"></script> "
            ],
            "text/plain": [
              "<IPython.core.display.HTML object>"
            ]
          },
          "metadata": {
            "tags": []
          }
        },
        {
          "output_type": "stream",
          "text": [
            "Saving employee.csv to employee.csv\n"
          ],
          "name": "stdout"
        }
      ]
    },
    {
      "cell_type": "code",
      "metadata": {
        "id": "Ve9meW2u7MZN",
        "colab_type": "code",
        "colab": {}
      },
      "source": [
        "employee = pd.read_csv('employee.csv')"
      ],
      "execution_count": 0,
      "outputs": []
    },
    {
      "cell_type": "code",
      "metadata": {
        "id": "2QQ2V-NQ7fXb",
        "colab_type": "code",
        "outputId": "bf2bde63-1cac-410d-a876-da505c39a841",
        "colab": {
          "base_uri": "https://localhost:8080/",
          "height": 204
        }
      },
      "source": [
        "employee.head()"
      ],
      "execution_count": 7,
      "outputs": [
        {
          "output_type": "execute_result",
          "data": {
            "text/html": [
              "<div>\n",
              "<style scoped>\n",
              "    .dataframe tbody tr th:only-of-type {\n",
              "        vertical-align: middle;\n",
              "    }\n",
              "\n",
              "    .dataframe tbody tr th {\n",
              "        vertical-align: top;\n",
              "    }\n",
              "\n",
              "    .dataframe thead th {\n",
              "        text-align: right;\n",
              "    }\n",
              "</style>\n",
              "<table border=\"1\" class=\"dataframe\">\n",
              "  <thead>\n",
              "    <tr style=\"text-align: right;\">\n",
              "      <th></th>\n",
              "      <th>employee_id</th>\n",
              "      <th>signing_bonus</th>\n",
              "      <th>salary</th>\n",
              "      <th>degree_level</th>\n",
              "      <th>sex</th>\n",
              "      <th>yrs_experience</th>\n",
              "    </tr>\n",
              "  </thead>\n",
              "  <tbody>\n",
              "    <tr>\n",
              "      <th>0</th>\n",
              "      <td>138719</td>\n",
              "      <td>0</td>\n",
              "      <td>273000.0</td>\n",
              "      <td>Master</td>\n",
              "      <td>M</td>\n",
              "      <td>2</td>\n",
              "    </tr>\n",
              "    <tr>\n",
              "      <th>1</th>\n",
              "      <td>3192</td>\n",
              "      <td>0</td>\n",
              "      <td>301000.0</td>\n",
              "      <td>Bachelor</td>\n",
              "      <td>F</td>\n",
              "      <td>1</td>\n",
              "    </tr>\n",
              "    <tr>\n",
              "      <th>2</th>\n",
              "      <td>114657</td>\n",
              "      <td>0</td>\n",
              "      <td>261000.0</td>\n",
              "      <td>Master</td>\n",
              "      <td>F</td>\n",
              "      <td>2</td>\n",
              "    </tr>\n",
              "    <tr>\n",
              "      <th>3</th>\n",
              "      <td>29039</td>\n",
              "      <td>0</td>\n",
              "      <td>86000.0</td>\n",
              "      <td>High_School</td>\n",
              "      <td>F</td>\n",
              "      <td>4</td>\n",
              "    </tr>\n",
              "    <tr>\n",
              "      <th>4</th>\n",
              "      <td>118607</td>\n",
              "      <td>0</td>\n",
              "      <td>126000.0</td>\n",
              "      <td>Bachelor</td>\n",
              "      <td>F</td>\n",
              "      <td>3</td>\n",
              "    </tr>\n",
              "  </tbody>\n",
              "</table>\n",
              "</div>"
            ],
            "text/plain": [
              "   employee_id  signing_bonus    salary degree_level sex  yrs_experience\n",
              "0       138719              0  273000.0       Master   M               2\n",
              "1         3192              0  301000.0     Bachelor   F               1\n",
              "2       114657              0  261000.0       Master   F               2\n",
              "3        29039              0   86000.0  High_School   F               4\n",
              "4       118607              0  126000.0     Bachelor   F               3"
            ]
          },
          "metadata": {
            "tags": []
          },
          "execution_count": 7
        }
      ]
    },
    {
      "cell_type": "code",
      "metadata": {
        "id": "pj7A8Lx87hkB",
        "colab_type": "code",
        "outputId": "2b26993d-99bf-4c55-9784-1750c961702c",
        "colab": {
          "base_uri": "https://localhost:8080/",
          "height": 204
        }
      },
      "source": [
        "company_hierarchy.head()"
      ],
      "execution_count": 8,
      "outputs": [
        {
          "output_type": "execute_result",
          "data": {
            "text/html": [
              "<div>\n",
              "<style scoped>\n",
              "    .dataframe tbody tr th:only-of-type {\n",
              "        vertical-align: middle;\n",
              "    }\n",
              "\n",
              "    .dataframe tbody tr th {\n",
              "        vertical-align: top;\n",
              "    }\n",
              "\n",
              "    .dataframe thead th {\n",
              "        text-align: right;\n",
              "    }\n",
              "</style>\n",
              "<table border=\"1\" class=\"dataframe\">\n",
              "  <thead>\n",
              "    <tr style=\"text-align: right;\">\n",
              "      <th></th>\n",
              "      <th>employee_id</th>\n",
              "      <th>boss_id</th>\n",
              "      <th>dept</th>\n",
              "    </tr>\n",
              "  </thead>\n",
              "  <tbody>\n",
              "    <tr>\n",
              "      <th>0</th>\n",
              "      <td>46456</td>\n",
              "      <td>175361.0</td>\n",
              "      <td>sales</td>\n",
              "    </tr>\n",
              "    <tr>\n",
              "      <th>1</th>\n",
              "      <td>104708</td>\n",
              "      <td>29733.0</td>\n",
              "      <td>HR</td>\n",
              "    </tr>\n",
              "    <tr>\n",
              "      <th>2</th>\n",
              "      <td>120853</td>\n",
              "      <td>41991.0</td>\n",
              "      <td>sales</td>\n",
              "    </tr>\n",
              "    <tr>\n",
              "      <th>3</th>\n",
              "      <td>142630</td>\n",
              "      <td>171266.0</td>\n",
              "      <td>HR</td>\n",
              "    </tr>\n",
              "    <tr>\n",
              "      <th>4</th>\n",
              "      <td>72711</td>\n",
              "      <td>198240.0</td>\n",
              "      <td>sales</td>\n",
              "    </tr>\n",
              "  </tbody>\n",
              "</table>\n",
              "</div>"
            ],
            "text/plain": [
              "   employee_id   boss_id   dept\n",
              "0        46456  175361.0  sales\n",
              "1       104708   29733.0     HR\n",
              "2       120853   41991.0  sales\n",
              "3       142630  171266.0     HR\n",
              "4        72711  198240.0  sales"
            ]
          },
          "metadata": {
            "tags": []
          },
          "execution_count": 8
        }
      ]
    },
    {
      "cell_type": "markdown",
      "metadata": {
        "id": "sluQRAgzo8xv",
        "colab_type": "text"
      },
      "source": [
        "Let's merge both the data sets to have all the data on 1 dataframe for our analysis."
      ]
    },
    {
      "cell_type": "code",
      "metadata": {
        "id": "2kS8yjIX7iGH",
        "colab_type": "code",
        "colab": {}
      },
      "source": [
        "#merging the 2 datasets\n",
        "\n",
        "employee = employee.merge(company_hierarchy, on = 'employee_id')"
      ],
      "execution_count": 0,
      "outputs": []
    },
    {
      "cell_type": "code",
      "metadata": {
        "id": "1uuCIM7ed7KD",
        "colab_type": "code",
        "outputId": "c0c5224f-5df4-489c-90c7-95b322abc5ef",
        "colab": {
          "base_uri": "https://localhost:8080/",
          "height": 204
        }
      },
      "source": [
        "employee.head()"
      ],
      "execution_count": 10,
      "outputs": [
        {
          "output_type": "execute_result",
          "data": {
            "text/html": [
              "<div>\n",
              "<style scoped>\n",
              "    .dataframe tbody tr th:only-of-type {\n",
              "        vertical-align: middle;\n",
              "    }\n",
              "\n",
              "    .dataframe tbody tr th {\n",
              "        vertical-align: top;\n",
              "    }\n",
              "\n",
              "    .dataframe thead th {\n",
              "        text-align: right;\n",
              "    }\n",
              "</style>\n",
              "<table border=\"1\" class=\"dataframe\">\n",
              "  <thead>\n",
              "    <tr style=\"text-align: right;\">\n",
              "      <th></th>\n",
              "      <th>employee_id</th>\n",
              "      <th>signing_bonus</th>\n",
              "      <th>salary</th>\n",
              "      <th>degree_level</th>\n",
              "      <th>sex</th>\n",
              "      <th>yrs_experience</th>\n",
              "      <th>boss_id</th>\n",
              "      <th>dept</th>\n",
              "    </tr>\n",
              "  </thead>\n",
              "  <tbody>\n",
              "    <tr>\n",
              "      <th>0</th>\n",
              "      <td>138719</td>\n",
              "      <td>0</td>\n",
              "      <td>273000.0</td>\n",
              "      <td>Master</td>\n",
              "      <td>M</td>\n",
              "      <td>2</td>\n",
              "      <td>43602.0</td>\n",
              "      <td>engineering</td>\n",
              "    </tr>\n",
              "    <tr>\n",
              "      <th>1</th>\n",
              "      <td>3192</td>\n",
              "      <td>0</td>\n",
              "      <td>301000.0</td>\n",
              "      <td>Bachelor</td>\n",
              "      <td>F</td>\n",
              "      <td>1</td>\n",
              "      <td>87847.0</td>\n",
              "      <td>sales</td>\n",
              "    </tr>\n",
              "    <tr>\n",
              "      <th>2</th>\n",
              "      <td>114657</td>\n",
              "      <td>0</td>\n",
              "      <td>261000.0</td>\n",
              "      <td>Master</td>\n",
              "      <td>F</td>\n",
              "      <td>2</td>\n",
              "      <td>180854.0</td>\n",
              "      <td>sales</td>\n",
              "    </tr>\n",
              "    <tr>\n",
              "      <th>3</th>\n",
              "      <td>29039</td>\n",
              "      <td>0</td>\n",
              "      <td>86000.0</td>\n",
              "      <td>High_School</td>\n",
              "      <td>F</td>\n",
              "      <td>4</td>\n",
              "      <td>88370.0</td>\n",
              "      <td>HR</td>\n",
              "    </tr>\n",
              "    <tr>\n",
              "      <th>4</th>\n",
              "      <td>118607</td>\n",
              "      <td>0</td>\n",
              "      <td>126000.0</td>\n",
              "      <td>Bachelor</td>\n",
              "      <td>F</td>\n",
              "      <td>3</td>\n",
              "      <td>23565.0</td>\n",
              "      <td>sales</td>\n",
              "    </tr>\n",
              "  </tbody>\n",
              "</table>\n",
              "</div>"
            ],
            "text/plain": [
              "   employee_id  signing_bonus    salary  ... yrs_experience   boss_id         dept\n",
              "0       138719              0  273000.0  ...              2   43602.0  engineering\n",
              "1         3192              0  301000.0  ...              1   87847.0        sales\n",
              "2       114657              0  261000.0  ...              2  180854.0        sales\n",
              "3        29039              0   86000.0  ...              4   88370.0           HR\n",
              "4       118607              0  126000.0  ...              3   23565.0        sales\n",
              "\n",
              "[5 rows x 8 columns]"
            ]
          },
          "metadata": {
            "tags": []
          },
          "execution_count": 10
        }
      ]
    },
    {
      "cell_type": "markdown",
      "metadata": {
        "id": "M59AzgRtpJJa",
        "colab_type": "text"
      },
      "source": [
        "Let's make a new column by populating null values. We have to use oyur current data to get the **designation** for each employee."
      ]
    },
    {
      "cell_type": "code",
      "metadata": {
        "id": "hHGhdiJsd87A",
        "colab_type": "code",
        "colab": {}
      },
      "source": [
        "employee['designation']=np.nan"
      ],
      "execution_count": 0,
      "outputs": []
    },
    {
      "cell_type": "code",
      "metadata": {
        "id": "P67ev5Qhls3m",
        "colab_type": "code",
        "outputId": "43b3edaf-098d-405e-e7d0-850ae1b269cd",
        "colab": {
          "base_uri": "https://localhost:8080/",
          "height": 187
        }
      },
      "source": [
        "employee.isnull().sum()"
      ],
      "execution_count": 12,
      "outputs": [
        {
          "output_type": "execute_result",
          "data": {
            "text/plain": [
              "employee_id           0\n",
              "signing_bonus         0\n",
              "salary                0\n",
              "degree_level          0\n",
              "sex                   0\n",
              "yrs_experience        0\n",
              "boss_id               1\n",
              "dept                  0\n",
              "designation       10000\n",
              "dtype: int64"
            ]
          },
          "metadata": {
            "tags": []
          },
          "execution_count": 12
        }
      ]
    },
    {
      "cell_type": "markdown",
      "metadata": {
        "id": "2AL0AhTTpSaq",
        "colab_type": "text"
      },
      "source": [
        "1 boss_id is NULL. This is the **CEO** who is the top most person in the organisation's hierarchy and therefore he doesn't have a boss."
      ]
    },
    {
      "cell_type": "code",
      "metadata": {
        "id": "bCxy8cr0oycD",
        "colab_type": "code",
        "colab": {}
      },
      "source": [
        "def clean_id(x):\n",
        "    try:\n",
        "        return int(x)\n",
        "    except:\n",
        "        return np.nan"
      ],
      "execution_count": 0,
      "outputs": []
    },
    {
      "cell_type": "code",
      "metadata": {
        "id": "mNBO_YKxon_E",
        "colab_type": "code",
        "outputId": "692a449e-dbc5-4912-e059-0c6168abd346",
        "colab": {
          "base_uri": "https://localhost:8080/",
          "height": 187
        }
      },
      "source": [
        "employee['boss_id'] = employee['boss_id'].apply(clean_id)\n",
        "employee.dtypes"
      ],
      "execution_count": 14,
      "outputs": [
        {
          "output_type": "execute_result",
          "data": {
            "text/plain": [
              "employee_id         int64\n",
              "signing_bonus       int64\n",
              "salary            float64\n",
              "degree_level       object\n",
              "sex                object\n",
              "yrs_experience      int64\n",
              "boss_id           float64\n",
              "dept               object\n",
              "designation       float64\n",
              "dtype: object"
            ]
          },
          "metadata": {
            "tags": []
          },
          "execution_count": 14
        }
      ]
    },
    {
      "cell_type": "markdown",
      "metadata": {
        "id": "eEre-0xCpk36",
        "colab_type": "text"
      },
      "source": [
        "\n",
        "\n",
        "**Solution 1**\n",
        "\n",
        "Now, lets write a code snippet for populating the designation column using the employee_id and boss_id information that we have. We will use the **bottoms up** approach since we have got the **employee_id** of the **CEO**."
      ]
    },
    {
      "cell_type": "code",
      "metadata": {
        "id": "ZaDzG9ZnqAPm",
        "colab_type": "code",
        "colab": {}
      },
      "source": [
        "employee.loc[employee[employee['boss_id'].isnull()].index,'designation'] = 'CEO'\n",
        "\n",
        "list_designations = ['CEO', 'E', 'VP', 'D', 'MM', 'IC']\n",
        "\n",
        "i = 0\n",
        "for dn in list_designations:\n",
        "  if i == 5:\n",
        "    break\n",
        "  dn_id = list(employee[employee['designation'] == list_designations[i]].employee_id)\n",
        "  for id in dn_id:\n",
        "    indices = employee.index[employee['boss_id']==id]\n",
        "    employee.loc[indices, 'designation']=list_designations[i+1]\n",
        "  i = i+1"
      ],
      "execution_count": 0,
      "outputs": []
    },
    {
      "cell_type": "code",
      "metadata": {
        "id": "HuFOB_iAryrE",
        "colab_type": "code",
        "outputId": "dfc02e34-c56b-40ac-8a2f-71fff03bd7e5",
        "colab": {
          "base_uri": "https://localhost:8080/",
          "height": 136
        }
      },
      "source": [
        "employee['designation'].value_counts()"
      ],
      "execution_count": 16,
      "outputs": [
        {
          "output_type": "execute_result",
          "data": {
            "text/plain": [
              "IC     9000\n",
              "MM      800\n",
              "D       160\n",
              "VP       35\n",
              "E         4\n",
              "CEO       1\n",
              "Name: designation, dtype: int64"
            ]
          },
          "metadata": {
            "tags": []
          },
          "execution_count": 16
        }
      ]
    },
    {
      "cell_type": "markdown",
      "metadata": {
        "id": "HfQ0D0GDp18u",
        "colab_type": "text"
      },
      "source": [
        "There are 9000 ICs, 800 MM, 160 D, 35 VPs, 4 Es and 1 CEO in the dataset."
      ]
    },
    {
      "cell_type": "code",
      "metadata": {
        "id": "xNQvhGdcsSp-",
        "colab_type": "code",
        "outputId": "cd2ff00a-732a-4e6c-e6e6-e128383a472c",
        "colab": {
          "base_uri": "https://localhost:8080/",
          "height": 204
        }
      },
      "source": [
        "employee.head()"
      ],
      "execution_count": 17,
      "outputs": [
        {
          "output_type": "execute_result",
          "data": {
            "text/html": [
              "<div>\n",
              "<style scoped>\n",
              "    .dataframe tbody tr th:only-of-type {\n",
              "        vertical-align: middle;\n",
              "    }\n",
              "\n",
              "    .dataframe tbody tr th {\n",
              "        vertical-align: top;\n",
              "    }\n",
              "\n",
              "    .dataframe thead th {\n",
              "        text-align: right;\n",
              "    }\n",
              "</style>\n",
              "<table border=\"1\" class=\"dataframe\">\n",
              "  <thead>\n",
              "    <tr style=\"text-align: right;\">\n",
              "      <th></th>\n",
              "      <th>employee_id</th>\n",
              "      <th>signing_bonus</th>\n",
              "      <th>salary</th>\n",
              "      <th>degree_level</th>\n",
              "      <th>sex</th>\n",
              "      <th>yrs_experience</th>\n",
              "      <th>boss_id</th>\n",
              "      <th>dept</th>\n",
              "      <th>designation</th>\n",
              "    </tr>\n",
              "  </thead>\n",
              "  <tbody>\n",
              "    <tr>\n",
              "      <th>0</th>\n",
              "      <td>138719</td>\n",
              "      <td>0</td>\n",
              "      <td>273000.0</td>\n",
              "      <td>Master</td>\n",
              "      <td>M</td>\n",
              "      <td>2</td>\n",
              "      <td>43602.0</td>\n",
              "      <td>engineering</td>\n",
              "      <td>IC</td>\n",
              "    </tr>\n",
              "    <tr>\n",
              "      <th>1</th>\n",
              "      <td>3192</td>\n",
              "      <td>0</td>\n",
              "      <td>301000.0</td>\n",
              "      <td>Bachelor</td>\n",
              "      <td>F</td>\n",
              "      <td>1</td>\n",
              "      <td>87847.0</td>\n",
              "      <td>sales</td>\n",
              "      <td>IC</td>\n",
              "    </tr>\n",
              "    <tr>\n",
              "      <th>2</th>\n",
              "      <td>114657</td>\n",
              "      <td>0</td>\n",
              "      <td>261000.0</td>\n",
              "      <td>Master</td>\n",
              "      <td>F</td>\n",
              "      <td>2</td>\n",
              "      <td>180854.0</td>\n",
              "      <td>sales</td>\n",
              "      <td>IC</td>\n",
              "    </tr>\n",
              "    <tr>\n",
              "      <th>3</th>\n",
              "      <td>29039</td>\n",
              "      <td>0</td>\n",
              "      <td>86000.0</td>\n",
              "      <td>High_School</td>\n",
              "      <td>F</td>\n",
              "      <td>4</td>\n",
              "      <td>88370.0</td>\n",
              "      <td>HR</td>\n",
              "      <td>IC</td>\n",
              "    </tr>\n",
              "    <tr>\n",
              "      <th>4</th>\n",
              "      <td>118607</td>\n",
              "      <td>0</td>\n",
              "      <td>126000.0</td>\n",
              "      <td>Bachelor</td>\n",
              "      <td>F</td>\n",
              "      <td>3</td>\n",
              "      <td>23565.0</td>\n",
              "      <td>sales</td>\n",
              "      <td>IC</td>\n",
              "    </tr>\n",
              "  </tbody>\n",
              "</table>\n",
              "</div>"
            ],
            "text/plain": [
              "   employee_id  signing_bonus    salary  ...   boss_id         dept  designation\n",
              "0       138719              0  273000.0  ...   43602.0  engineering           IC\n",
              "1         3192              0  301000.0  ...   87847.0        sales           IC\n",
              "2       114657              0  261000.0  ...  180854.0        sales           IC\n",
              "3        29039              0   86000.0  ...   88370.0           HR           IC\n",
              "4       118607              0  126000.0  ...   23565.0        sales           IC\n",
              "\n",
              "[5 rows x 9 columns]"
            ]
          },
          "metadata": {
            "tags": []
          },
          "execution_count": 17
        }
      ]
    },
    {
      "cell_type": "markdown",
      "metadata": {
        "id": "wAn67Lu2qQ1l",
        "colab_type": "text"
      },
      "source": [
        "Now, let us find the number of people each of the employee manages as asked in the data challenge."
      ]
    },
    {
      "cell_type": "code",
      "metadata": {
        "id": "gFjE9tK4ulli",
        "colab_type": "code",
        "colab": {}
      },
      "source": [
        "#initializing to 0\n",
        "\n",
        "employee['count_managed_people']=0"
      ],
      "execution_count": 0,
      "outputs": []
    },
    {
      "cell_type": "code",
      "metadata": {
        "id": "0URemtqourX1",
        "colab_type": "code",
        "colab": {}
      },
      "source": [
        "#ICs are lowest in the heirarchy, so they manage 0 people\n",
        "employee.loc[employee[employee['designation']=='IC'].index,'count_managed_people'] = 0"
      ],
      "execution_count": 0,
      "outputs": []
    },
    {
      "cell_type": "code",
      "metadata": {
        "id": "qIkM50pXutRx",
        "colab_type": "code",
        "outputId": "8388d7d6-8d5b-40f1-9667-d9db37219ff4",
        "colab": {
          "base_uri": "https://localhost:8080/",
          "height": 204
        }
      },
      "source": [
        "employee.head()"
      ],
      "execution_count": 20,
      "outputs": [
        {
          "output_type": "execute_result",
          "data": {
            "text/html": [
              "<div>\n",
              "<style scoped>\n",
              "    .dataframe tbody tr th:only-of-type {\n",
              "        vertical-align: middle;\n",
              "    }\n",
              "\n",
              "    .dataframe tbody tr th {\n",
              "        vertical-align: top;\n",
              "    }\n",
              "\n",
              "    .dataframe thead th {\n",
              "        text-align: right;\n",
              "    }\n",
              "</style>\n",
              "<table border=\"1\" class=\"dataframe\">\n",
              "  <thead>\n",
              "    <tr style=\"text-align: right;\">\n",
              "      <th></th>\n",
              "      <th>employee_id</th>\n",
              "      <th>signing_bonus</th>\n",
              "      <th>salary</th>\n",
              "      <th>degree_level</th>\n",
              "      <th>sex</th>\n",
              "      <th>yrs_experience</th>\n",
              "      <th>boss_id</th>\n",
              "      <th>dept</th>\n",
              "      <th>designation</th>\n",
              "      <th>count_managed_people</th>\n",
              "    </tr>\n",
              "  </thead>\n",
              "  <tbody>\n",
              "    <tr>\n",
              "      <th>0</th>\n",
              "      <td>138719</td>\n",
              "      <td>0</td>\n",
              "      <td>273000.0</td>\n",
              "      <td>Master</td>\n",
              "      <td>M</td>\n",
              "      <td>2</td>\n",
              "      <td>43602.0</td>\n",
              "      <td>engineering</td>\n",
              "      <td>IC</td>\n",
              "      <td>0</td>\n",
              "    </tr>\n",
              "    <tr>\n",
              "      <th>1</th>\n",
              "      <td>3192</td>\n",
              "      <td>0</td>\n",
              "      <td>301000.0</td>\n",
              "      <td>Bachelor</td>\n",
              "      <td>F</td>\n",
              "      <td>1</td>\n",
              "      <td>87847.0</td>\n",
              "      <td>sales</td>\n",
              "      <td>IC</td>\n",
              "      <td>0</td>\n",
              "    </tr>\n",
              "    <tr>\n",
              "      <th>2</th>\n",
              "      <td>114657</td>\n",
              "      <td>0</td>\n",
              "      <td>261000.0</td>\n",
              "      <td>Master</td>\n",
              "      <td>F</td>\n",
              "      <td>2</td>\n",
              "      <td>180854.0</td>\n",
              "      <td>sales</td>\n",
              "      <td>IC</td>\n",
              "      <td>0</td>\n",
              "    </tr>\n",
              "    <tr>\n",
              "      <th>3</th>\n",
              "      <td>29039</td>\n",
              "      <td>0</td>\n",
              "      <td>86000.0</td>\n",
              "      <td>High_School</td>\n",
              "      <td>F</td>\n",
              "      <td>4</td>\n",
              "      <td>88370.0</td>\n",
              "      <td>HR</td>\n",
              "      <td>IC</td>\n",
              "      <td>0</td>\n",
              "    </tr>\n",
              "    <tr>\n",
              "      <th>4</th>\n",
              "      <td>118607</td>\n",
              "      <td>0</td>\n",
              "      <td>126000.0</td>\n",
              "      <td>Bachelor</td>\n",
              "      <td>F</td>\n",
              "      <td>3</td>\n",
              "      <td>23565.0</td>\n",
              "      <td>sales</td>\n",
              "      <td>IC</td>\n",
              "      <td>0</td>\n",
              "    </tr>\n",
              "  </tbody>\n",
              "</table>\n",
              "</div>"
            ],
            "text/plain": [
              "   employee_id  signing_bonus  ...  designation count_managed_people\n",
              "0       138719              0  ...           IC                    0\n",
              "1         3192              0  ...           IC                    0\n",
              "2       114657              0  ...           IC                    0\n",
              "3        29039              0  ...           IC                    0\n",
              "4       118607              0  ...           IC                    0\n",
              "\n",
              "[5 rows x 10 columns]"
            ]
          },
          "metadata": {
            "tags": []
          },
          "execution_count": 20
        }
      ]
    },
    {
      "cell_type": "code",
      "metadata": {
        "id": "3Bj6Jdhiu7tx",
        "colab_type": "code",
        "outputId": "43fa932f-43e1-46cc-df87-c214ba2669c6",
        "colab": {
          "base_uri": "https://localhost:8080/",
          "height": 51
        }
      },
      "source": [
        "employee['count_managed_people'].value_counts()"
      ],
      "execution_count": 21,
      "outputs": [
        {
          "output_type": "execute_result",
          "data": {
            "text/plain": [
              "0    10000\n",
              "Name: count_managed_people, dtype: int64"
            ]
          },
          "metadata": {
            "tags": []
          },
          "execution_count": 21
        }
      ]
    },
    {
      "cell_type": "markdown",
      "metadata": {
        "id": "V5bbk1EZqzIC",
        "colab_type": "text"
      },
      "source": [
        "Here's the code snippet that populates the **number of people each employee manages**."
      ]
    },
    {
      "cell_type": "code",
      "metadata": {
        "id": "SNjNSAV-zDaX",
        "colab_type": "code",
        "colab": {}
      },
      "source": [
        "\n",
        "list_designations_to_find_count = ['MM', 'D', 'VP', 'E', 'CEO']\n",
        "for d in list_designations_to_find_count:  #for all designations\n",
        "  indices_with_d_designation =list(employee[employee['designation']== d].index)  #indices for designation d\n",
        "  for i in indices_with_d_designation:\n",
        "    for j in list(employee.index):\n",
        "      if (employee.loc[j, 'boss_id']==employee.loc[i,'employee_id']):  #if boss id matched employee id\n",
        "        employee.loc[i,'count_managed_people'] = employee.loc[i,'count_managed_people'] + 1 + employee.loc[j, 'count_managed_people'] \n",
        "\n",
        "#count is adding one of each employee working under added to the count of the employees those employees are managing\n"
      ],
      "execution_count": 0,
      "outputs": []
    },
    {
      "cell_type": "code",
      "metadata": {
        "id": "OW50GX1E6-KI",
        "colab_type": "code",
        "outputId": "fde5d8de-42de-4a3a-92ac-cf610ba3a2a5",
        "colab": {
          "base_uri": "https://localhost:8080/",
          "height": 80
        }
      },
      "source": [
        "#sanity check\n",
        "employee[(employee['count_managed_people']==0 )   &  (employee['designation'] == 'D')]"
      ],
      "execution_count": 23,
      "outputs": [
        {
          "output_type": "execute_result",
          "data": {
            "text/html": [
              "<div>\n",
              "<style scoped>\n",
              "    .dataframe tbody tr th:only-of-type {\n",
              "        vertical-align: middle;\n",
              "    }\n",
              "\n",
              "    .dataframe tbody tr th {\n",
              "        vertical-align: top;\n",
              "    }\n",
              "\n",
              "    .dataframe thead th {\n",
              "        text-align: right;\n",
              "    }\n",
              "</style>\n",
              "<table border=\"1\" class=\"dataframe\">\n",
              "  <thead>\n",
              "    <tr style=\"text-align: right;\">\n",
              "      <th></th>\n",
              "      <th>employee_id</th>\n",
              "      <th>signing_bonus</th>\n",
              "      <th>salary</th>\n",
              "      <th>degree_level</th>\n",
              "      <th>sex</th>\n",
              "      <th>yrs_experience</th>\n",
              "      <th>boss_id</th>\n",
              "      <th>dept</th>\n",
              "      <th>designation</th>\n",
              "      <th>count_managed_people</th>\n",
              "    </tr>\n",
              "  </thead>\n",
              "  <tbody>\n",
              "    <tr>\n",
              "      <th>9875</th>\n",
              "      <td>8473</td>\n",
              "      <td>0</td>\n",
              "      <td>60000.0</td>\n",
              "      <td>Bachelor</td>\n",
              "      <td>M</td>\n",
              "      <td>23</td>\n",
              "      <td>26053.0</td>\n",
              "      <td>HR</td>\n",
              "      <td>D</td>\n",
              "      <td>0</td>\n",
              "    </tr>\n",
              "  </tbody>\n",
              "</table>\n",
              "</div>"
            ],
            "text/plain": [
              "      employee_id  signing_bonus  ...  designation count_managed_people\n",
              "9875         8473              0  ...            D                    0\n",
              "\n",
              "[1 rows x 10 columns]"
            ]
          },
          "metadata": {
            "tags": []
          },
          "execution_count": 23
        }
      ]
    },
    {
      "cell_type": "markdown",
      "metadata": {
        "id": "PGD96PQFr4dc",
        "colab_type": "text"
      },
      "source": [
        "**Solution 2:**\n",
        "\n",
        "Table of employee_id and number of people managed"
      ]
    },
    {
      "cell_type": "code",
      "metadata": {
        "id": "1HgWkAjV6lwG",
        "colab_type": "code",
        "colab": {}
      },
      "source": [
        "#selecting reqd columns for the solution to question 2\n",
        "\n",
        "table_people_managed = employee[['employee_id', 'count_managed_people']]"
      ],
      "execution_count": 0,
      "outputs": []
    },
    {
      "cell_type": "code",
      "metadata": {
        "id": "8MfvUdkQry75",
        "colab_type": "code",
        "colab": {
          "base_uri": "https://localhost:8080/",
          "height": 419
        },
        "outputId": "9b98c49c-d8b9-4bbe-df09-d4933582c83e"
      },
      "source": [
        "table_people_managed"
      ],
      "execution_count": 28,
      "outputs": [
        {
          "output_type": "execute_result",
          "data": {
            "text/html": [
              "<div>\n",
              "<style scoped>\n",
              "    .dataframe tbody tr th:only-of-type {\n",
              "        vertical-align: middle;\n",
              "    }\n",
              "\n",
              "    .dataframe tbody tr th {\n",
              "        vertical-align: top;\n",
              "    }\n",
              "\n",
              "    .dataframe thead th {\n",
              "        text-align: right;\n",
              "    }\n",
              "</style>\n",
              "<table border=\"1\" class=\"dataframe\">\n",
              "  <thead>\n",
              "    <tr style=\"text-align: right;\">\n",
              "      <th></th>\n",
              "      <th>employee_id</th>\n",
              "      <th>count_managed_people</th>\n",
              "    </tr>\n",
              "  </thead>\n",
              "  <tbody>\n",
              "    <tr>\n",
              "      <th>0</th>\n",
              "      <td>138719</td>\n",
              "      <td>0</td>\n",
              "    </tr>\n",
              "    <tr>\n",
              "      <th>1</th>\n",
              "      <td>3192</td>\n",
              "      <td>0</td>\n",
              "    </tr>\n",
              "    <tr>\n",
              "      <th>2</th>\n",
              "      <td>114657</td>\n",
              "      <td>0</td>\n",
              "    </tr>\n",
              "    <tr>\n",
              "      <th>3</th>\n",
              "      <td>29039</td>\n",
              "      <td>0</td>\n",
              "    </tr>\n",
              "    <tr>\n",
              "      <th>4</th>\n",
              "      <td>118607</td>\n",
              "      <td>0</td>\n",
              "    </tr>\n",
              "    <tr>\n",
              "      <th>...</th>\n",
              "      <td>...</td>\n",
              "      <td>...</td>\n",
              "    </tr>\n",
              "    <tr>\n",
              "      <th>9995</th>\n",
              "      <td>55261</td>\n",
              "      <td>0</td>\n",
              "    </tr>\n",
              "    <tr>\n",
              "      <th>9996</th>\n",
              "      <td>84604</td>\n",
              "      <td>0</td>\n",
              "    </tr>\n",
              "    <tr>\n",
              "      <th>9997</th>\n",
              "      <td>193115</td>\n",
              "      <td>0</td>\n",
              "    </tr>\n",
              "    <tr>\n",
              "      <th>9998</th>\n",
              "      <td>14249</td>\n",
              "      <td>0</td>\n",
              "    </tr>\n",
              "    <tr>\n",
              "      <th>9999</th>\n",
              "      <td>72227</td>\n",
              "      <td>0</td>\n",
              "    </tr>\n",
              "  </tbody>\n",
              "</table>\n",
              "<p>10000 rows × 2 columns</p>\n",
              "</div>"
            ],
            "text/plain": [
              "      employee_id  count_managed_people\n",
              "0          138719                     0\n",
              "1            3192                     0\n",
              "2          114657                     0\n",
              "3           29039                     0\n",
              "4          118607                     0\n",
              "...           ...                   ...\n",
              "9995        55261                     0\n",
              "9996        84604                     0\n",
              "9997       193115                     0\n",
              "9998        14249                     0\n",
              "9999        72227                     0\n",
              "\n",
              "[10000 rows x 2 columns]"
            ]
          },
          "metadata": {
            "tags": []
          },
          "execution_count": 28
        }
      ]
    },
    {
      "cell_type": "code",
      "metadata": {
        "id": "LKUrayhJCvjo",
        "colab_type": "code",
        "outputId": "e91dae1c-42b8-477a-cbd4-e23a4bcbd158",
        "colab": {
          "base_uri": "https://localhost:8080/",
          "height": 34
        }
      },
      "source": [
        "table_people_managed.shape"
      ],
      "execution_count": 26,
      "outputs": [
        {
          "output_type": "execute_result",
          "data": {
            "text/plain": [
              "(10000, 2)"
            ]
          },
          "metadata": {
            "tags": []
          },
          "execution_count": 26
        }
      ]
    },
    {
      "cell_type": "code",
      "metadata": {
        "id": "FBrWHBouCwQm",
        "colab_type": "code",
        "outputId": "2d6b1498-2ed6-4415-c2a9-52223e988e34",
        "colab": {
          "base_uri": "https://localhost:8080/",
          "height": 204
        }
      },
      "source": [
        "employee.head()"
      ],
      "execution_count": 0,
      "outputs": [
        {
          "output_type": "execute_result",
          "data": {
            "text/html": [
              "<div>\n",
              "<style scoped>\n",
              "    .dataframe tbody tr th:only-of-type {\n",
              "        vertical-align: middle;\n",
              "    }\n",
              "\n",
              "    .dataframe tbody tr th {\n",
              "        vertical-align: top;\n",
              "    }\n",
              "\n",
              "    .dataframe thead th {\n",
              "        text-align: right;\n",
              "    }\n",
              "</style>\n",
              "<table border=\"1\" class=\"dataframe\">\n",
              "  <thead>\n",
              "    <tr style=\"text-align: right;\">\n",
              "      <th></th>\n",
              "      <th>employee_id</th>\n",
              "      <th>signing_bonus</th>\n",
              "      <th>salary</th>\n",
              "      <th>degree_level</th>\n",
              "      <th>sex</th>\n",
              "      <th>yrs_experience</th>\n",
              "      <th>boss_id</th>\n",
              "      <th>dept</th>\n",
              "      <th>designation</th>\n",
              "      <th>count_managed_people</th>\n",
              "    </tr>\n",
              "  </thead>\n",
              "  <tbody>\n",
              "    <tr>\n",
              "      <th>0</th>\n",
              "      <td>138719</td>\n",
              "      <td>0</td>\n",
              "      <td>273000.0</td>\n",
              "      <td>Master</td>\n",
              "      <td>M</td>\n",
              "      <td>2</td>\n",
              "      <td>43602.0</td>\n",
              "      <td>engineering</td>\n",
              "      <td>IC</td>\n",
              "      <td>0</td>\n",
              "    </tr>\n",
              "    <tr>\n",
              "      <th>1</th>\n",
              "      <td>3192</td>\n",
              "      <td>0</td>\n",
              "      <td>301000.0</td>\n",
              "      <td>Bachelor</td>\n",
              "      <td>F</td>\n",
              "      <td>1</td>\n",
              "      <td>87847.0</td>\n",
              "      <td>sales</td>\n",
              "      <td>IC</td>\n",
              "      <td>0</td>\n",
              "    </tr>\n",
              "    <tr>\n",
              "      <th>2</th>\n",
              "      <td>114657</td>\n",
              "      <td>0</td>\n",
              "      <td>261000.0</td>\n",
              "      <td>Master</td>\n",
              "      <td>F</td>\n",
              "      <td>2</td>\n",
              "      <td>180854.0</td>\n",
              "      <td>sales</td>\n",
              "      <td>IC</td>\n",
              "      <td>0</td>\n",
              "    </tr>\n",
              "    <tr>\n",
              "      <th>3</th>\n",
              "      <td>29039</td>\n",
              "      <td>0</td>\n",
              "      <td>86000.0</td>\n",
              "      <td>High_School</td>\n",
              "      <td>F</td>\n",
              "      <td>4</td>\n",
              "      <td>88370.0</td>\n",
              "      <td>HR</td>\n",
              "      <td>IC</td>\n",
              "      <td>0</td>\n",
              "    </tr>\n",
              "    <tr>\n",
              "      <th>4</th>\n",
              "      <td>118607</td>\n",
              "      <td>0</td>\n",
              "      <td>126000.0</td>\n",
              "      <td>Bachelor</td>\n",
              "      <td>F</td>\n",
              "      <td>3</td>\n",
              "      <td>23565.0</td>\n",
              "      <td>sales</td>\n",
              "      <td>IC</td>\n",
              "      <td>0</td>\n",
              "    </tr>\n",
              "  </tbody>\n",
              "</table>\n",
              "</div>"
            ],
            "text/plain": [
              "   employee_id  signing_bonus  ...  designation count_managed_people\n",
              "0       138719              0  ...           IC                    0\n",
              "1         3192              0  ...           IC                    0\n",
              "2       114657              0  ...           IC                    0\n",
              "3        29039              0  ...           IC                    0\n",
              "4       118607              0  ...           IC                    0\n",
              "\n",
              "[5 rows x 10 columns]"
            ]
          },
          "metadata": {
            "tags": []
          },
          "execution_count": 25
        }
      ]
    },
    {
      "cell_type": "markdown",
      "metadata": {
        "id": "I1viGH10sVRk",
        "colab_type": "text"
      },
      "source": [
        "Now, lets see some useful numbers in the data."
      ]
    },
    {
      "cell_type": "code",
      "metadata": {
        "id": "Vf0JHTVaxi1x",
        "colab_type": "code",
        "outputId": "95535179-9327-40c9-d582-e89de5245448",
        "colab": {
          "base_uri": "https://localhost:8080/",
          "height": 34
        }
      },
      "source": [
        "print('Percentage of females in the company is :', end = ' ')\n",
        "print(employee[employee['sex']=='F'].shape[0]*100/employee.shape[0], end = '%')"
      ],
      "execution_count": 0,
      "outputs": [
        {
          "output_type": "stream",
          "text": [
            "Percentage of females in the company is : 35.61%"
          ],
          "name": "stdout"
        }
      ]
    },
    {
      "cell_type": "code",
      "metadata": {
        "id": "p5nCMWmeyFE-",
        "colab_type": "code",
        "outputId": "15ace535-b9f0-4145-b31b-f2fabcd92f56",
        "colab": {
          "base_uri": "https://localhost:8080/",
          "height": 34
        }
      },
      "source": [
        "print('Ratio of male to female :', end = ' ')\n",
        "print(employee[employee['sex']=='M'].shape[0]/employee[employee['sex']=='F'].shape[0], end = ' ')"
      ],
      "execution_count": 0,
      "outputs": [
        {
          "output_type": "stream",
          "text": [
            "Ratio of male to female : 1.808199943836001 "
          ],
          "name": "stdout"
        }
      ]
    },
    {
      "cell_type": "markdown",
      "metadata": {
        "id": "ETJDFZuHsqRJ",
        "colab_type": "text"
      },
      "source": [
        "Let's us visualize all the variables now to understand the data."
      ]
    },
    {
      "cell_type": "code",
      "metadata": {
        "id": "5giRuSMqDWy1",
        "colab_type": "code",
        "colab": {}
      },
      "source": [
        "categ_cols = ['degree_level', 'sex', 'dept', 'designation']"
      ],
      "execution_count": 0,
      "outputs": []
    },
    {
      "cell_type": "code",
      "metadata": {
        "id": "b5gWX4m3C7pa",
        "colab_type": "code",
        "outputId": "911c3a3f-bf06-4ccb-e513-9e050ebfe629",
        "colab": {
          "base_uri": "https://localhost:8080/",
          "height": 585
        }
      },
      "source": [
        "#visualizing categorical data\n",
        "\n",
        "fig, ax = plt.subplots(2, 2, figsize=(12, 8))\n",
        "for variable, subplot in zip(categ_cols, ax.flatten()):\n",
        "    sns.countplot(employee[variable].sort_values(), ax=subplot)\n",
        "    subplot.title.set_text(variable)\n",
        "    plt.tight_layout()\n",
        "    for label in subplot.get_xticklabels():\n",
        "        label.set_rotation(0)"
      ],
      "execution_count": 0,
      "outputs": [
        {
          "output_type": "display_data",
          "data": {
            "image/png": "[encoded data removed]",
            "text/plain": [
              "<Figure size 864x576 with 4 Axes>"
            ]
          },
          "metadata": {
            "tags": []
          }
        }
      ]
    },
    {
      "cell_type": "code",
      "metadata": {
        "id": "nt1HkTmSDQni",
        "colab_type": "code",
        "outputId": "9f0f227f-00bc-4926-90a0-028f17a3cde0",
        "colab": {
          "base_uri": "https://localhost:8080/",
          "height": 498
        }
      },
      "source": [
        "#visualizing numeric data\n",
        "\n",
        "employee[['signing_bonus', 'salary', 'yrs_experience', 'count_managed_people']].hist(figsize=(12, 8), bins=10, xlabelsize=8, ylabelsize=8); "
      ],
      "execution_count": 0,
      "outputs": [
        {
          "output_type": "display_data",
          "data": {
            "image/png": "[encoded data removed]",
            "text/plain": [
              "<Figure size 864x576 with 4 Axes>"
            ]
          },
          "metadata": {
            "tags": []
          }
        }
      ]
    },
    {
      "cell_type": "markdown",
      "metadata": {
        "id": "km65Egacs6TL",
        "colab_type": "text"
      },
      "source": [
        "Now, since the challenge is on **diversity**, lets visualize the variables only for the **males** data and only for the **female** data and see if we can get some interesting observaations."
      ]
    },
    {
      "cell_type": "code",
      "metadata": {
        "id": "BAZKsxViHGSO",
        "colab_type": "code",
        "colab": {}
      },
      "source": [
        "#male and female dataframe\n",
        "\n",
        "male = employee[employee['sex']=='M']\n",
        "female = employee[employee['sex']=='F']"
      ],
      "execution_count": 0,
      "outputs": []
    },
    {
      "cell_type": "code",
      "metadata": {
        "id": "6tmp3sc0IkMs",
        "colab_type": "code",
        "outputId": "f7dd4bdc-3610-4d3b-f7c4-dd4ae16590ec",
        "colab": {
          "base_uri": "https://localhost:8080/",
          "height": 498
        }
      },
      "source": [
        "male[['signing_bonus', 'salary', 'yrs_experience', 'count_managed_people']].hist(figsize=(12, 8), bins=10, xlabelsize=8, ylabelsize=8); "
      ],
      "execution_count": 0,
      "outputs": [
        {
          "output_type": "display_data",
          "data": {
            "image/png": "[encoded data removed]",
            "text/plain": [
              "<Figure size 864x576 with 4 Axes>"
            ]
          },
          "metadata": {
            "tags": []
          }
        }
      ]
    },
    {
      "cell_type": "code",
      "metadata": {
        "id": "IGgisAbdIqeT",
        "colab_type": "code",
        "outputId": "02fb6cbe-555b-4c1f-fdee-38759183815f",
        "colab": {
          "base_uri": "https://localhost:8080/",
          "height": 498
        }
      },
      "source": [
        "female[['signing_bonus', 'salary', 'yrs_experience', 'count_managed_people']].hist(figsize=(12, 8), bins=10, xlabelsize=8, ylabelsize=8); "
      ],
      "execution_count": 0,
      "outputs": [
        {
          "output_type": "display_data",
          "data": {
            "image/png": "[encoded data removed]",
            "text/plain": [
              "<Figure size 864x576 with 4 Axes>"
            ]
          },
          "metadata": {
            "tags": []
          }
        }
      ]
    },
    {
      "cell_type": "markdown",
      "metadata": {
        "id": "SwL1fZmUtTmQ",
        "colab_type": "text"
      },
      "source": [
        "Let us do a side-by-side plot to compare."
      ]
    },
    {
      "cell_type": "code",
      "metadata": {
        "id": "jqx4qdUzuEA7",
        "colab_type": "code",
        "outputId": "21c51581-3022-48a6-929b-43780c131cf2",
        "colab": {
          "base_uri": "https://localhost:8080/",
          "height": 297
        }
      },
      "source": [
        "fig, ax = plt.subplots(nrows=1, ncols=2, figsize=(12, 4))\n",
        "sns.distplot(male['salary'], ax=ax[0], kde=False, rug=True)\n",
        "ax[0].set_xlabel('Salary', fontsize=12)\n",
        "ax[0].set_ylabel('Number of people', fontsize=12)\n",
        "ax[0].set_title('Male salary distribution', fontsize=16)\n",
        "\n",
        "sns.distplot(female['salary'], ax=ax[1], kde=False, rug=True)\n",
        "ax[1].set_xlabel('Salary', fontsize=12)\n",
        "ax[1].set_ylabel('Number of people', fontsize=12)\n",
        "ax[1].set_title('Female salary distribution', fontsize=16)\n",
        "plt.tight_layout()\n",
        "plt.show()"
      ],
      "execution_count": 0,
      "outputs": [
        {
          "output_type": "display_data",
          "data": {
            "image/png": "[encoded data removed]",
            "text/plain": [
              "<Figure size 864x288 with 2 Axes>"
            ]
          },
          "metadata": {
            "tags": []
          }
        }
      ]
    },
    {
      "cell_type": "markdown",
      "metadata": {
        "id": "Sf1jefNetb5E",
        "colab_type": "text"
      },
      "source": [
        "Clearly, the viz shows interesting trend that **most of the females in the company get paid around 100,000** while men's salary distribution is a bit constant until %250-300,000"
      ]
    },
    {
      "cell_type": "code",
      "metadata": {
        "id": "MwvF1M_Uv9Tm",
        "colab_type": "code",
        "outputId": "2e28853d-ab99-4acd-e21f-1dfa08344dc3",
        "colab": {
          "base_uri": "https://localhost:8080/",
          "height": 297
        }
      },
      "source": [
        "#mean salary vs gender viz\n",
        "\n",
        "fig, ax = plt.subplots(nrows=1, ncols=2, figsize=(12, 4))\n",
        "sns.countplot(x='sex', data=employee, ax=ax[0])\n",
        "ax[0].set_xlabel('sex', fontsize=12)\n",
        "ax[0].set_ylabel('Count', fontsize=12)\n",
        "ax[0].set_title('Count Plot of sex', fontsize=16)\n",
        "\n",
        "sns.barplot(x='sex', y='salary', data=employee, ax=ax[1])\n",
        "ax[1].set_xlabel('sex', fontsize=12)\n",
        "ax[1].set_ylabel('Salary', fontsize=12)\n",
        "ax[1].set_title('Mean salary vs. sex', fontsize=16)\n",
        "plt.tight_layout()\n",
        "plt.show()"
      ],
      "execution_count": 0,
      "outputs": [
        {
          "output_type": "display_data",
          "data": {
            "image/png": "[encoded data removed]",
            "text/plain": [
              "<Figure size 864x288 with 2 Axes>"
            ]
          },
          "metadata": {
            "tags": []
          }
        }
      ]
    },
    {
      "cell_type": "markdown",
      "metadata": {
        "id": "4o4cClR7t1iM",
        "colab_type": "text"
      },
      "source": [
        "Mean salary of females is about $40,000 less than the males though they might work in different departments. ."
      ]
    },
    {
      "cell_type": "code",
      "metadata": {
        "id": "uEsKIEWLpWhT",
        "colab_type": "code",
        "outputId": "0521ca90-76c7-4823-9d44-a9170d1abdac",
        "colab": {
          "base_uri": "https://localhost:8080/",
          "height": 297
        }
      },
      "source": [
        "#salary vs degree level\n",
        "\n",
        "fig, ax = plt.subplots(nrows=1, ncols=2, figsize=(12, 4))\n",
        "sns.countplot(x='degree_level', data=employee, ax=ax[0])\n",
        "ax[0].set_xlabel('degree_level', fontsize=12)\n",
        "ax[0].set_ylabel('Count', fontsize=12)\n",
        "ax[0].set_title('Count Plot of degree_level', fontsize=16)\n",
        "\n",
        "sns.barplot(x='degree_level', y='salary', data=employee, ax=ax[1])\n",
        "ax[1].set_xlabel('degree_level', fontsize=12)\n",
        "ax[1].set_ylabel('Salary', fontsize=12)\n",
        "ax[1].set_title('Salary vs. degree_level', fontsize=16)\n",
        "plt.tight_layout()\n",
        "plt.show()"
      ],
      "execution_count": 0,
      "outputs": [
        {
          "output_type": "display_data",
          "data": {
            "image/png": "[encoded data removed]",
            "text/plain": [
              "<Figure size 864x288 with 2 Axes>"
            ]
          },
          "metadata": {
            "tags": []
          }
        }
      ]
    },
    {
      "cell_type": "code",
      "metadata": {
        "id": "AUt1_Wk8r3vZ",
        "colab_type": "code",
        "outputId": "fb45c56f-c3ba-4fc2-fffd-9b3503656a92",
        "colab": {
          "base_uri": "https://localhost:8080/",
          "height": 297
        }
      },
      "source": [
        "fig, ax = plt.subplots(nrows=1, ncols=2, figsize=(12, 4))\n",
        "sns.countplot(x='yrs_experience', data=employee, ax=ax[0])\n",
        "ax[0].set_xlabel('yrs_experience', fontsize=12)\n",
        "ax[0].set_ylabel('Count', fontsize=12)\n",
        "ax[0].set_title('Count Plot of yrs_experience', fontsize=16)\n",
        "\n",
        "sns.barplot(x='yrs_experience', y='salary', data=employee, ax=ax[1])\n",
        "ax[1].set_xlabel('yrs_experience', fontsize=12)\n",
        "ax[1].set_ylabel('Salary', fontsize=12)\n",
        "ax[1].set_title('Mean salary across different yrs of experiences', fontsize=16)\n",
        "plt.tight_layout()\n",
        "plt.show()"
      ],
      "execution_count": 0,
      "outputs": [
        {
          "output_type": "display_data",
          "data": {
            "image/png": "[encoded data removed]",
            "text/plain": [
              "<Figure size 864x288 with 2 Axes>"
            ]
          },
          "metadata": {
            "tags": []
          }
        }
      ]
    },
    {
      "cell_type": "markdown",
      "metadata": {
        "id": "0YWat1OLuOhf",
        "colab_type": "text"
      },
      "source": [
        "Though, most of the people lie between 0-10 years of experience, mean salary increases after 10 years of experience as seen from the above viz."
      ]
    },
    {
      "cell_type": "code",
      "metadata": {
        "id": "tcFNbGU5sPZV",
        "colab_type": "code",
        "outputId": "a59ae328-c274-4600-eaeb-46eda271cb78",
        "colab": {
          "base_uri": "https://localhost:8080/",
          "height": 297
        }
      },
      "source": [
        "#dept vs salary\n",
        "\n",
        "fig, ax = plt.subplots(nrows=1, ncols=2, figsize=(12, 4))\n",
        "sns.countplot(x='dept', data=employee, ax=ax[0])\n",
        "ax[0].set_xlabel('dept', fontsize=12)\n",
        "ax[0].set_ylabel('Count', fontsize=12)\n",
        "ax[0].set_title('Count Plot of dept', fontsize=16)\n",
        "\n",
        "sns.barplot(x='dept', y='salary', data=employee, ax=ax[1])\n",
        "ax[1].set_xlabel('dept', fontsize=12)\n",
        "ax[1].set_ylabel('Salary', fontsize=12)\n",
        "ax[1].set_title('Mean salary across depts', fontsize=16)\n",
        "plt.tight_layout()\n",
        "plt.show()"
      ],
      "execution_count": 0,
      "outputs": [
        {
          "output_type": "display_data",
          "data": {
            "image/png": "[encoded data removed]",
            "text/plain": [
              "<Figure size 864x288 with 2 Axes>"
            ]
          },
          "metadata": {
            "tags": []
          }
        }
      ]
    },
    {
      "cell_type": "markdown",
      "metadata": {
        "id": "4i83JIw8xBwu",
        "colab_type": "text"
      },
      "source": [
        "We can see that **HRs have the lowest mean salary** across all departments. Apart from the CEO, Engineers are the highest paid followed by an almost equal pay in sales and marketing. \n",
        "\n",
        "Lets now see how the **gender** is distributed across these departments to gain some intuition on diversity and fairness."
      ]
    },
    {
      "cell_type": "code",
      "metadata": {
        "id": "2UYK6afOw54h",
        "colab_type": "code",
        "outputId": "7ad6c814-3ac7-4b6a-cdc8-42ecc9b188c6",
        "colab": {
          "base_uri": "https://localhost:8080/",
          "height": 369
        }
      },
      "source": [
        "#gender vs dept\n",
        "\n",
        "fig, ax = plt.subplots(nrows=1, ncols=2, figsize=(12, 5))\n",
        "sns.countplot(x='dept', data=employee, ax=ax[0])\n",
        "ax[0].set_xlabel('dept', fontsize=12)\n",
        "ax[0].set_ylabel('Count', fontsize=12)\n",
        "ax[0].set_title('Count Plot of dept', fontsize=16)\n",
        "\n",
        "sns.countplot(x='dept', data=employee, hue = 'sex', ax=ax[1])\n",
        "ax[1].set_xlabel('dept', fontsize=12)\n",
        "ax[1].set_ylabel('Salary', fontsize=12)\n",
        "ax[1].set_title('Gender distribution across the departments', fontsize=16)\n",
        "plt.tight_layout()\n",
        "plt.show()"
      ],
      "execution_count": 0,
      "outputs": [
        {
          "output_type": "display_data",
          "data": {
            "image/png": "[encoded data removed]",
            "text/plain": [
              "<Figure size 864x360 with 2 Axes>"
            ]
          },
          "metadata": {
            "tags": []
          }
        }
      ]
    },
    {
      "cell_type": "markdown",
      "metadata": {
        "id": "Ns8__fiuxb8w",
        "colab_type": "text"
      },
      "source": [
        "**Interesting Trend**\n",
        "\n",
        "Though the ratio of males to females in the company is 1.8(~2), when we delve into specific departments, we see that:\n",
        "\n",
        "1) ***In engineering, the ratio of males even increases (as evident from a smaller bar for females)***\n",
        "\n",
        "2) ***In HR the females lead the males, though we also saw from the previous plot that the HRs are the lowest paid among all the departments.***\n",
        "\n",
        "There can be several reasons, either HRs are low paid or females are low paid."
      ]
    },
    {
      "cell_type": "code",
      "metadata": {
        "id": "y17iIjf8sXvo",
        "colab_type": "code",
        "outputId": "c7508de6-de5c-420b-e26c-a8ea04185774",
        "colab": {
          "base_uri": "https://localhost:8080/",
          "height": 369
        }
      },
      "source": [
        "#salary vs level\n",
        "orders = ['IC', 'MM', 'D', 'VP', 'E', 'CEO']\n",
        "fig, ax = plt.subplots(nrows=1, ncols=2, figsize=(12, 5))\n",
        "sns.countplot(x='designation', data=employee, ax=ax[0], order=orders)\n",
        "ax[0].set_xlabel('Designation', fontsize=12)\n",
        "ax[0].set_ylabel('Count', fontsize=12)\n",
        "ax[0].set_title('Count Plot of level', fontsize=16)\n",
        "\n",
        "sns.barplot(x='designation', y='salary', data=employee, ax=ax[1], order=orders)\n",
        "ax[1].set_xlabel('Designation', fontsize=12)\n",
        "ax[1].set_ylabel('Salary', fontsize=12)\n",
        "ax[1].set_title('Salary vs. level', fontsize=16)\n",
        "plt.tight_layout()\n",
        "plt.show()"
      ],
      "execution_count": 0,
      "outputs": [
        {
          "output_type": "display_data",
          "data": {
            "image/png": "[encoded data removed]",
            "text/plain": [
              "<Figure size 864x360 with 2 Axes>"
            ]
          },
          "metadata": {
            "tags": []
          }
        }
      ]
    },
    {
      "cell_type": "code",
      "metadata": {
        "id": "dgQS-0TGs-FJ",
        "colab_type": "code",
        "outputId": "3a2888c0-ea1e-4a12-cb9d-4a8c087ef780",
        "colab": {
          "base_uri": "https://localhost:8080/",
          "height": 369
        }
      },
      "source": [
        "fig, ax = plt.subplots(nrows=1, ncols=2, figsize=(12, 5))\n",
        "sns.countplot(x='degree_level', data=employee, ax=ax[0])\n",
        "ax[0].set_xlabel('dept', fontsize=12)\n",
        "ax[0].set_ylabel('Count', fontsize=12)\n",
        "ax[0].set_title('Count Plot of degree_level', fontsize=16)\n",
        "\n",
        "sns.countplot(x='degree_level', data=employee, hue = 'sex', ax=ax[1])\n",
        "ax[1].set_xlabel('dept', fontsize=12)\n",
        "ax[1].set_ylabel('Salary', fontsize=12)\n",
        "ax[1].set_title('Males vs Females across the degree_levels', fontsize=16)\n",
        "plt.tight_layout()\n",
        "plt.show()"
      ],
      "execution_count": 0,
      "outputs": [
        {
          "output_type": "display_data",
          "data": {
            "image/png": "[encoded data removed]",
            "text/plain": [
              "<Figure size 864x360 with 2 Axes>"
            ]
          },
          "metadata": {
            "tags": []
          }
        }
      ]
    },
    {
      "cell_type": "code",
      "metadata": {
        "id": "6zS-Z_Rrt5z2",
        "colab_type": "code",
        "outputId": "b676346f-aca8-4a1b-b8a4-64a501320d3d",
        "colab": {
          "base_uri": "https://localhost:8080/",
          "height": 204
        }
      },
      "source": [
        "employee.head()"
      ],
      "execution_count": 0,
      "outputs": [
        {
          "output_type": "execute_result",
          "data": {
            "text/html": [
              "<div>\n",
              "<style scoped>\n",
              "    .dataframe tbody tr th:only-of-type {\n",
              "        vertical-align: middle;\n",
              "    }\n",
              "\n",
              "    .dataframe tbody tr th {\n",
              "        vertical-align: top;\n",
              "    }\n",
              "\n",
              "    .dataframe thead th {\n",
              "        text-align: right;\n",
              "    }\n",
              "</style>\n",
              "<table border=\"1\" class=\"dataframe\">\n",
              "  <thead>\n",
              "    <tr style=\"text-align: right;\">\n",
              "      <th></th>\n",
              "      <th>employee_id</th>\n",
              "      <th>signing_bonus</th>\n",
              "      <th>salary</th>\n",
              "      <th>degree_level</th>\n",
              "      <th>sex</th>\n",
              "      <th>yrs_experience</th>\n",
              "      <th>boss_id</th>\n",
              "      <th>dept</th>\n",
              "      <th>designation</th>\n",
              "      <th>count_managed_people</th>\n",
              "    </tr>\n",
              "  </thead>\n",
              "  <tbody>\n",
              "    <tr>\n",
              "      <th>0</th>\n",
              "      <td>138719</td>\n",
              "      <td>0</td>\n",
              "      <td>273000.0</td>\n",
              "      <td>Master</td>\n",
              "      <td>M</td>\n",
              "      <td>2</td>\n",
              "      <td>43602.0</td>\n",
              "      <td>engineering</td>\n",
              "      <td>IC</td>\n",
              "      <td>0</td>\n",
              "    </tr>\n",
              "    <tr>\n",
              "      <th>1</th>\n",
              "      <td>3192</td>\n",
              "      <td>0</td>\n",
              "      <td>301000.0</td>\n",
              "      <td>Bachelor</td>\n",
              "      <td>F</td>\n",
              "      <td>1</td>\n",
              "      <td>87847.0</td>\n",
              "      <td>sales</td>\n",
              "      <td>IC</td>\n",
              "      <td>0</td>\n",
              "    </tr>\n",
              "    <tr>\n",
              "      <th>2</th>\n",
              "      <td>114657</td>\n",
              "      <td>0</td>\n",
              "      <td>261000.0</td>\n",
              "      <td>Master</td>\n",
              "      <td>F</td>\n",
              "      <td>2</td>\n",
              "      <td>180854.0</td>\n",
              "      <td>sales</td>\n",
              "      <td>IC</td>\n",
              "      <td>0</td>\n",
              "    </tr>\n",
              "    <tr>\n",
              "      <th>3</th>\n",
              "      <td>29039</td>\n",
              "      <td>0</td>\n",
              "      <td>86000.0</td>\n",
              "      <td>High_School</td>\n",
              "      <td>F</td>\n",
              "      <td>4</td>\n",
              "      <td>88370.0</td>\n",
              "      <td>HR</td>\n",
              "      <td>IC</td>\n",
              "      <td>0</td>\n",
              "    </tr>\n",
              "    <tr>\n",
              "      <th>4</th>\n",
              "      <td>118607</td>\n",
              "      <td>0</td>\n",
              "      <td>126000.0</td>\n",
              "      <td>Bachelor</td>\n",
              "      <td>F</td>\n",
              "      <td>3</td>\n",
              "      <td>23565.0</td>\n",
              "      <td>sales</td>\n",
              "      <td>IC</td>\n",
              "      <td>0</td>\n",
              "    </tr>\n",
              "  </tbody>\n",
              "</table>\n",
              "</div>"
            ],
            "text/plain": [
              "   employee_id  signing_bonus  ...  designation count_managed_people\n",
              "0       138719              0  ...           IC                    0\n",
              "1         3192              0  ...           IC                    0\n",
              "2       114657              0  ...           IC                    0\n",
              "3        29039              0  ...           IC                    0\n",
              "4       118607              0  ...           IC                    0\n",
              "\n",
              "[5 rows x 10 columns]"
            ]
          },
          "metadata": {
            "tags": []
          },
          "execution_count": 109
        }
      ]
    },
    {
      "cell_type": "code",
      "metadata": {
        "id": "aX7t_MFI37Eg",
        "colab_type": "code",
        "colab": {}
      },
      "source": [
        "X = employee.copy().drop(columns = ['employee_id', 'salary', 'boss_id'])\n",
        "y = employee.copy()['salary']"
      ],
      "execution_count": 0,
      "outputs": []
    },
    {
      "cell_type": "code",
      "metadata": {
        "id": "oZMgI5qF4EHQ",
        "colab_type": "code",
        "outputId": "63142467-dfea-412e-addc-53dcf5ccf9a0",
        "colab": {
          "base_uri": "https://localhost:8080/",
          "height": 153
        }
      },
      "source": [
        "X.dtypes"
      ],
      "execution_count": 0,
      "outputs": [
        {
          "output_type": "execute_result",
          "data": {
            "text/plain": [
              "signing_bonus            int64\n",
              "degree_level            object\n",
              "sex                     object\n",
              "yrs_experience           int64\n",
              "dept                    object\n",
              "designation             object\n",
              "count_managed_people     int64\n",
              "dtype: object"
            ]
          },
          "metadata": {
            "tags": []
          },
          "execution_count": 200
        }
      ]
    },
    {
      "cell_type": "markdown",
      "metadata": {
        "id": "upI7vEDZvJ11",
        "colab_type": "text"
      },
      "source": [
        "Now, let's build a **model** to **predict salary**. Using the **model's most imprtant variables** used for predictions, we will get to know about the important factors that affects the salary distribution in the data."
      ]
    },
    {
      "cell_type": "code",
      "metadata": {
        "id": "q6g1Kdrt4hNG",
        "colab_type": "code",
        "colab": {}
      },
      "source": [
        "#one hot encoding for categorical variables \n",
        "\n",
        "labelencoder = LabelEncoder()\n",
        "dummy_cols = ['degree_level', 'sex', 'dept', 'designation']\n",
        "X =  pd.get_dummies(X, columns = dummy_cols)"
      ],
      "execution_count": 0,
      "outputs": []
    },
    {
      "cell_type": "code",
      "metadata": {
        "id": "7wJOWMe-KwjE",
        "colab_type": "code",
        "colab": {}
      },
      "source": [
        "#splitting data into training and test sets\n",
        "X_train, X_test, y_train, y_test = train_test_split(X,y,random_state=100,shuffle = True, test_size = 0.25)"
      ],
      "execution_count": 0,
      "outputs": []
    },
    {
      "cell_type": "code",
      "metadata": {
        "id": "ii4nOkF13nnm",
        "colab_type": "code",
        "outputId": "550fa5ca-939a-4433-d1dc-f5b849233c81",
        "colab": {
          "base_uri": "https://localhost:8080/",
          "height": 296
        }
      },
      "source": [
        "#checking  distribution of y_train ( salary )\n",
        "\n",
        "sns.distplot(y_train,  kde=False, rug=True)"
      ],
      "execution_count": 0,
      "outputs": [
        {
          "output_type": "execute_result",
          "data": {
            "text/plain": [
              "<matplotlib.axes._subplots.AxesSubplot at 0x7f1f74bb5fd0>"
            ]
          },
          "metadata": {
            "tags": []
          },
          "execution_count": 203
        },
        {
          "output_type": "display_data",
          "data": {
            "image/png": "[encoded data removed]",
            "text/plain": [
              "<Figure size 432x288 with 1 Axes>"
            ]
          },
          "metadata": {
            "tags": []
          }
        }
      ]
    },
    {
      "cell_type": "markdown",
      "metadata": {
        "id": "dr1FyBRHvn0I",
        "colab_type": "text"
      },
      "source": [
        "Since, the distribution is skewed towards the right, lets take a log transformation which will make it easier for the model to predict since the distribution won't be skewed."
      ]
    },
    {
      "cell_type": "code",
      "metadata": {
        "id": "EFkSy6SwKs1A",
        "colab_type": "code",
        "colab": {}
      },
      "source": [
        "#taking log transformations\n",
        "\n",
        "y_train = np.log(y_train)\n",
        "y_test = np.log(y_test)"
      ],
      "execution_count": 0,
      "outputs": []
    },
    {
      "cell_type": "code",
      "metadata": {
        "id": "tigideqhKsyD",
        "colab_type": "code",
        "outputId": "616b4616-f3fc-484a-c20e-c0d3ed2fe66b",
        "colab": {
          "base_uri": "https://localhost:8080/",
          "height": 296
        }
      },
      "source": [
        "#distribution after transformation\n",
        "\n",
        "sns.distplot(y_train,  kde=False, rug=True)"
      ],
      "execution_count": 0,
      "outputs": [
        {
          "output_type": "execute_result",
          "data": {
            "text/plain": [
              "<matplotlib.axes._subplots.AxesSubplot at 0x7f1f74b503c8>"
            ]
          },
          "metadata": {
            "tags": []
          },
          "execution_count": 205
        },
        {
          "output_type": "display_data",
          "data": {
            "image/png": "[encoded data removed]",
            "text/plain": [
              "<Figure size 432x288 with 1 Axes>"
            ]
          },
          "metadata": {
            "tags": []
          }
        }
      ]
    },
    {
      "cell_type": "code",
      "metadata": {
        "id": "1gREh-Zb3nfD",
        "colab_type": "code",
        "outputId": "558d135e-c0b8-4cb0-8667-d85225212ed3",
        "colab": {
          "base_uri": "https://localhost:8080/",
          "height": 153
        }
      },
      "source": [
        "#modelling using randomforestregressor\n",
        "\n",
        "clf = RandomForestRegressor()\n",
        "\n",
        "# use a full grid over all parameters\n",
        "param_grid = {'n_estimators' : [50, 100],\n",
        "              \"max_features\": [1, 3, 7],\n",
        "              'max_depth':[3,5,7]\n",
        "              }\n",
        "\n",
        "grid = GridSearchCV(clf, param_grid, cv=5,scoring='r2')\n",
        "\n",
        "grid.fit(X_train, y_train)\n",
        "print(\"Grid-Search with r2\")\n",
        "print(\"Best parameters:\", grid.best_params_)\n",
        "print(\"Best cross-validation score (r2)): {:.3f}\".format(grid.best_score_))\n",
        "#print(\"feature importances: {:.3f}\".format(grid.best_estimator_.feature_importances_))\n",
        "\n",
        "print(grid.best_estimator_.feature_importances_)"
      ],
      "execution_count": 0,
      "outputs": [
        {
          "output_type": "stream",
          "text": [
            "Grid-Search with r2\n",
            "Best parameters: {'max_depth': 5, 'max_features': 7, 'n_estimators': 50}\n",
            "Best cross-validation score (r2)): 0.423\n",
            "[4.88790118e-03 9.00069867e-03 1.35508155e-02 6.66149373e-04\n",
            " 5.07310829e-04 6.79059909e-04 1.04244870e-03 1.30971103e-02\n",
            " 1.39376596e-02 5.43022857e-04 6.62454681e-01 1.57442999e-01\n",
            " 3.86757550e-02 7.72092982e-02 1.16008942e-04 1.52298268e-03\n",
            " 1.39477263e-03 1.04082219e-03 5.21807088e-04 1.70869660e-03]\n"
          ],
          "name": "stdout"
        }
      ]
    },
    {
      "cell_type": "code",
      "metadata": {
        "id": "ljX8sG1LE6c3",
        "colab_type": "code",
        "outputId": "e45e1d98-4fad-4213-8ddb-cdabd7e902fa",
        "colab": {
          "base_uri": "https://localhost:8080/",
          "height": 136
        }
      },
      "source": [
        "clf = RandomForestRegressor(max_depth = 5, max_features = 7, n_estimators = 100 )\n",
        "clf.fit(X_train, y_train)"
      ],
      "execution_count": 0,
      "outputs": [
        {
          "output_type": "execute_result",
          "data": {
            "text/plain": [
              "RandomForestRegressor(bootstrap=True, criterion='mse', max_depth=5,\n",
              "                      max_features=7, max_leaf_nodes=None,\n",
              "                      min_impurity_decrease=0.0, min_impurity_split=None,\n",
              "                      min_samples_leaf=1, min_samples_split=2,\n",
              "                      min_weight_fraction_leaf=0.0, n_estimators=100,\n",
              "                      n_jobs=None, oob_score=False, random_state=None,\n",
              "                      verbose=0, warm_start=False)"
            ]
          },
          "metadata": {
            "tags": []
          },
          "execution_count": 207
        }
      ]
    },
    {
      "cell_type": "code",
      "metadata": {
        "id": "rKYh_XcJFSCn",
        "colab_type": "code",
        "outputId": "96a99c7f-34ff-4820-feb5-3713ef7e10c3",
        "colab": {
          "base_uri": "https://localhost:8080/",
          "height": 34
        }
      },
      "source": [
        "from sklearn.metrics import mean_squared_error\n",
        "from sklearn.metrics import r2_score\n",
        "y_pr=clf.predict(X_test)\n",
        "#y_pr=clf.predict(X_test)\n",
        "r2_score(y_test, y_pr)"
      ],
      "execution_count": 0,
      "outputs": [
        {
          "output_type": "execute_result",
          "data": {
            "text/plain": [
              "0.42816660375238835"
            ]
          },
          "metadata": {
            "tags": []
          },
          "execution_count": 208
        }
      ]
    },
    {
      "cell_type": "markdown",
      "metadata": {
        "id": "pFVma1MDwRpx",
        "colab_type": "text"
      },
      "source": [
        "R2 score is not that great which means there are other factors too which affects the salary. But anyways **0.42 score means the predictors used explain 42% of the variance in salary**. Lets see which are the major contributors in the prediction."
      ]
    },
    {
      "cell_type": "code",
      "metadata": {
        "id": "ZdiBm7Wr30Gf",
        "colab_type": "code",
        "colab": {}
      },
      "source": [
        "\n",
        "features = list(X_train.columns)\n",
        "importances = list(clf.feature_importances_)\n",
        "feature_importances_df = pd.DataFrame({'feature' : features, 'importance' : importances})\n",
        "feature_importances_df = feature_importances_df.sort_values(by = 'importance', ascending=False)\n",
        "feature_importances_df = feature_importances_df.iloc[0:10,:].sort_values(by = 'importance', ascending=True)"
      ],
      "execution_count": 0,
      "outputs": []
    },
    {
      "cell_type": "code",
      "metadata": {
        "id": "6OIKzkBd316c",
        "colab_type": "code",
        "outputId": "d7b3c7a4-e4a4-434d-97b8-49829b125998",
        "colab": {
          "base_uri": "https://localhost:8080/",
          "height": 350
        }
      },
      "source": [
        "plt.figure(figsize=(8, 5))\n",
        "plt.title('Feature Importances')\n",
        "plt.barh(range(0,10), feature_importances_df['importance'], color='green', align='center')\n",
        "plt.yticks(range(0,10), [i for i in feature_importances_df.feature[0:10]])\n",
        "plt.xlabel('Relative Importance')\n",
        "plt.show()"
      ],
      "execution_count": 0,
      "outputs": [
        {
          "output_type": "display_data",
          "data": {
            "image/png": "[encoded data removed]",
            "text/plain": [
              "<Figure size 576x360 with 1 Axes>"
            ]
          },
          "metadata": {
            "tags": []
          }
        }
      ]
    },
    {
      "cell_type": "markdown",
      "metadata": {
        "id": "d0mgF2ZTXYUJ",
        "colab_type": "text"
      },
      "source": [
        "From the random forest, we can see that the most important features that determine the salary are **department** ( whether he/she belongs to HR dept or engineering dept ) and 'gender' though department answers most of the variance in predicting salaries.\n",
        "\n",
        "Let's visualize an instance of the random forest."
      ]
    },
    {
      "cell_type": "code",
      "metadata": {
        "id": "DZ1q1Dfz31-k",
        "colab_type": "code",
        "outputId": "d40737f4-c9ed-456e-a870-fe19757491eb",
        "colab": {
          "base_uri": "https://localhost:8080/",
          "height": 445
        }
      },
      "source": [
        "import matplotlib.pyplot as plt\n",
        "import pydotplus\n",
        "import matplotlib.image as mpimg\n",
        "import io\n",
        "from sklearn import tree\n",
        "\n",
        "\n",
        "from sklearn.externals.six import StringIO\n",
        "from sklearn.tree import export_graphviz\n",
        "\n",
        "dot_data = io.StringIO()\n",
        "estimator = clf.estimators_[70]\n",
        "tree.export_graphviz(estimator, \n",
        "                out_file='tree.dot', max_depth = 3,feature_names = list(X_train.columns),\n",
        "                rounded = True, proportion = False, \n",
        "                precision = 2, filled = True)\n",
        "from subprocess import call\n",
        "call(['dot', '-Tpng', 'tree.dot', '-o', 'tree.png', '-Gdpi=600'])\n",
        "filename = \"tree.png\"\n",
        "plt.figure(figsize=(21,16))\n",
        "plt.title('A view of random forest algorithm')\n",
        "\n",
        "img = mpimg.imread(filename)\n",
        "imgplot = plt.imshow(img)\n",
        "\n",
        "plt.show()"
      ],
      "execution_count": 0,
      "outputs": [
        {
          "output_type": "display_data",
          "data": {
            "image/png": "[encoded data removed]",
            "text/plain": [
              "<Figure size 1512x1152 with 1 Axes>"
            ]
          },
          "metadata": {
            "tags": []
          }
        }
      ]
    },
    {
      "cell_type": "markdown",
      "metadata": {
        "id": "wsMu2JKL0BOy",
        "colab_type": "text"
      },
      "source": [
        "Now, lets find the bias which is the difference in the true and predicted salary and see the trend of bias."
      ]
    },
    {
      "cell_type": "code",
      "metadata": {
        "id": "YwUiYTJuVP22",
        "colab_type": "code",
        "colab": {}
      },
      "source": [
        "y_predict = clf.predict(X)\n",
        "y_predict = np.exp(y_predict)"
      ],
      "execution_count": 0,
      "outputs": []
    },
    {
      "cell_type": "code",
      "metadata": {
        "id": "MqFlmtopQ3qw",
        "colab_type": "code",
        "colab": {}
      },
      "source": [
        "salary_df = pd.DataFrame({'true_salary' :  y , 'predicted_salary' : y_predict, 'bias' :y - y_predict})"
      ],
      "execution_count": 0,
      "outputs": []
    },
    {
      "cell_type": "code",
      "metadata": {
        "id": "u_IBIthgR0uS",
        "colab_type": "code",
        "outputId": "c0e0d73c-4119-41aa-9704-d28921595c94",
        "colab": {
          "base_uri": "https://localhost:8080/",
          "height": 204
        }
      },
      "source": [
        "salary_df.head()"
      ],
      "execution_count": 0,
      "outputs": [
        {
          "output_type": "execute_result",
          "data": {
            "text/html": [
              "<div>\n",
              "<style scoped>\n",
              "    .dataframe tbody tr th:only-of-type {\n",
              "        vertical-align: middle;\n",
              "    }\n",
              "\n",
              "    .dataframe tbody tr th {\n",
              "        vertical-align: top;\n",
              "    }\n",
              "\n",
              "    .dataframe thead th {\n",
              "        text-align: right;\n",
              "    }\n",
              "</style>\n",
              "<table border=\"1\" class=\"dataframe\">\n",
              "  <thead>\n",
              "    <tr style=\"text-align: right;\">\n",
              "      <th></th>\n",
              "      <th>true_salary</th>\n",
              "      <th>predicted_salary</th>\n",
              "      <th>bias</th>\n",
              "    </tr>\n",
              "  </thead>\n",
              "  <tbody>\n",
              "    <tr>\n",
              "      <th>0</th>\n",
              "      <td>273000.0</td>\n",
              "      <td>219495.085708</td>\n",
              "      <td>53504.914292</td>\n",
              "    </tr>\n",
              "    <tr>\n",
              "      <th>1</th>\n",
              "      <td>301000.0</td>\n",
              "      <td>177236.502907</td>\n",
              "      <td>123763.497093</td>\n",
              "    </tr>\n",
              "    <tr>\n",
              "      <th>2</th>\n",
              "      <td>261000.0</td>\n",
              "      <td>178413.926729</td>\n",
              "      <td>82586.073271</td>\n",
              "    </tr>\n",
              "    <tr>\n",
              "      <th>3</th>\n",
              "      <td>86000.0</td>\n",
              "      <td>82596.375560</td>\n",
              "      <td>3403.624440</td>\n",
              "    </tr>\n",
              "    <tr>\n",
              "      <th>4</th>\n",
              "      <td>126000.0</td>\n",
              "      <td>178512.811692</td>\n",
              "      <td>-52512.811692</td>\n",
              "    </tr>\n",
              "  </tbody>\n",
              "</table>\n",
              "</div>"
            ],
            "text/plain": [
              "   true_salary  predicted_salary           bias\n",
              "0     273000.0     219495.085708   53504.914292\n",
              "1     301000.0     177236.502907  123763.497093\n",
              "2     261000.0     178413.926729   82586.073271\n",
              "3      86000.0      82596.375560    3403.624440\n",
              "4     126000.0     178512.811692  -52512.811692"
            ]
          },
          "metadata": {
            "tags": []
          },
          "execution_count": 292
        }
      ]
    },
    {
      "cell_type": "code",
      "metadata": {
        "id": "p0giExHWVpx7",
        "colab_type": "code",
        "outputId": "110eb042-0aa4-430e-eade-3078e21fd3d7",
        "colab": {
          "base_uri": "https://localhost:8080/",
          "height": 297
        }
      },
      "source": [
        "sns.distplot(salary_df['true_salary'],  kde=False, rug=True)"
      ],
      "execution_count": 0,
      "outputs": [
        {
          "output_type": "execute_result",
          "data": {
            "text/plain": [
              "<matplotlib.axes._subplots.AxesSubplot at 0x7f1f6f501cc0>"
            ]
          },
          "metadata": {
            "tags": []
          },
          "execution_count": 293
        },
        {
          "output_type": "display_data",
          "data": {
            "image/png": "[encoded data removed]",
            "text/plain": [
              "<Figure size 432x288 with 1 Axes>"
            ]
          },
          "metadata": {
            "tags": []
          }
        }
      ]
    },
    {
      "cell_type": "code",
      "metadata": {
        "id": "03PyxRfjVuQl",
        "colab_type": "code",
        "outputId": "8d86c4a3-d52b-4eaa-e325-e3d457e5dd36",
        "colab": {
          "base_uri": "https://localhost:8080/",
          "height": 296
        }
      },
      "source": [
        "sns.distplot(salary_df['bias'],  kde=False, rug=True)"
      ],
      "execution_count": 0,
      "outputs": [
        {
          "output_type": "execute_result",
          "data": {
            "text/plain": [
              "<matplotlib.axes._subplots.AxesSubplot at 0x7f1f6ef53dd8>"
            ]
          },
          "metadata": {
            "tags": []
          },
          "execution_count": 296
        },
        {
          "output_type": "display_data",
          "data": {
            "image/png": "[encoded data removed]",
            "text/plain": [
              "<Figure size 432x288 with 1 Axes>"
            ]
          },
          "metadata": {
            "tags": []
          }
        }
      ]
    },
    {
      "cell_type": "markdown",
      "metadata": {
        "id": "CC83FWRyYAFV",
        "colab_type": "text"
      },
      "source": [
        "We can see that the predicted values' **bias is almost normally distributed**. Now, let us use the model to predict on all the 10000 employees and lets plot it vs Bias to see the trend."
      ]
    },
    {
      "cell_type": "code",
      "metadata": {
        "id": "T_uSUI1KV5OL",
        "colab_type": "code",
        "outputId": "89329015-ba20-48bb-fa79-22da04721343",
        "colab": {
          "base_uri": "https://localhost:8080/",
          "height": 280
        }
      },
      "source": [
        "ax = sns.scatterplot(x='true_salary', y='bias', data=salary_df)"
      ],
      "execution_count": 0,
      "outputs": [
        {
          "output_type": "display_data",
          "data": {
            "image/png": "[encoded data removed]",
            "text/plain": [
              "<Figure size 432x288 with 1 Axes>"
            ]
          },
          "metadata": {
            "tags": []
          }
        }
      ]
    },
    {
      "cell_type": "markdown",
      "metadata": {
        "id": "hfUHqWctYMNa",
        "colab_type": "text"
      },
      "source": [
        "Clearly, the **higher the salary is**, the **more is the bias towards the positive scale**. This means that when salary grows higher for an individual, the actual salary is a lot more than what our generalized model is predicting. This means that people with higher salaries are generally overpaid.\n",
        "\n",
        "Also, we saw while visualizing our data that there is a bias in diversity because though females form about 35% of the employees,they aren't equally represented acorss departments. **The ratio is less in engineering department and infact females lead in the HR department where the mean salary is lower than the mean salary for any other department.**\n",
        "\n",
        "**My suggestion to the head of HR will be to hire more females in engineering and males in HR. Though females have a major representation in HR, they aren't really hiring much for engineering. This will ensure more diversity in creativity and innovation for the company.**\n",
        "\n",
        "**Also, I will suggest capping salaries at various levels since people with higher salaries are generally overpaid it seems.**\n",
        "\n",
        "\n",
        "Thank you"
      ]
    }
  ]
}
